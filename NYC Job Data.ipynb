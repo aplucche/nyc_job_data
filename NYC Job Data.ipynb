{
 "cells": [
  {
   "cell_type": "code",
   "execution_count": 3,
   "metadata": {
    "collapsed": false
   },
   "outputs": [],
   "source": [
    "import pandas as pd\n",
    "pd.set_option('display.max_columns', None)\n",
    "pd.options.mode.chained_assignment = None\n",
    "\n",
    "data_url = 'https://data.cityofnewyork.us/api/views/kpav-sd4t/rows.csv?accessType=DOWNLOAD'\n",
    "source_df = pd.read_csv(data_url)\n",
    "source_df = source_df.fillna('')\n",
    "df = source_df.drop_duplicates('Job ID')"
   ]
  },
  {
   "cell_type": "markdown",
   "metadata": {},
   "source": [
    "Method\n",
    "\n",
    "- We will use the midpoint of the salary range for each position.\n",
    "- For the purposes of this analysis all daily and hourly positions will be shown as full time:\n",
    "  - Hourly Positions will be estimated at 40 hours a week for 50 weeks\n",
    "  - Daily Salaries will be estimated at 5 days a week for 50 weeks\n",
    "- Time the job is left open will be used as a proxy for difficulty to fill\n",
    "  - This is calculated as the time from last update to the original posting date\n",
    "- Duplicate rows are removed - only first occurence of each Job ID is shown\n",
    "  \n",
    "  \n",
    "Notes:\n",
    "\n",
    "Positions like City Seasonal Aide and City Park Worker have hundreds of low paying open positons"
   ]
  },
  {
   "cell_type": "code",
   "execution_count": 4,
   "metadata": {
    "collapsed": false
   },
   "outputs": [],
   "source": [
    "#df[df['Agency']=='FIRE DEPARTMENT'].head(2)"
   ]
  },
  {
   "cell_type": "code",
   "execution_count": 5,
   "metadata": {
    "collapsed": false
   },
   "outputs": [],
   "source": [
    "external_posted_job_ids = source_df[source_df['Posting Type'] == 'External']['Job ID'].unique() # get unique IDs from full dataframe\n",
    "df['has_external_posting'] = [True if job_id in external_posted_job_ids else False for job_id in df['Job ID']]\n",
    "df.has_external_posting.value_counts()\n",
    "\n",
    "salary = df[['Agency','# Of Positions','Salary Range From', 'Salary Range To','Salary Frequency', 'has_external_posting']]\n",
    "salary['salary_midpoint'] = salary['Salary Range From'] + (salary['Salary Range To'] - salary['Salary Range From'])/2\n",
    "\n",
    "# Annualize Hourly and Daily rates (see http://stackoverflow.com/questions/12307099/modifying-a-subset-of-rows-in-a-pandas-dataframe)\n",
    "salary.ix[df['Salary Frequency'] =='Hourly', 'salary_midpoint'] = salary.ix[df['Salary Frequency'] =='Hourly', 'salary_midpoint'] * 40 * 50\n",
    "salary.ix[df['Salary Frequency'] =='Daily', 'salary_midpoint'] = salary.ix[df['Salary Frequency'] =='Daily', 'salary_midpoint'] * 5 * 50\n",
    "\n",
    "salary['salary_total'] = salary['# Of Positions'] * salary['salary_midpoint']\n",
    "\n",
    "salary_grouped = salary.groupby('Agency').sum()\n",
    "salary[salary['Salary Frequency'] == 'Annual'].head(5)\n",
    "salary_grouped['average_salary'] = salary_grouped['salary_total'] / salary_grouped['# Of Positions']\n",
    "#ordered_salaries = salary_grouped[['# Of Positions', 'average_salary']].sort_values('average_salary', ascending=False)\n",
    "ordered_salaries = salary_grouped[['average_salary']].sort_values('average_salary', ascending=False)"
   ]
  },
  {
   "cell_type": "code",
   "execution_count": 6,
   "metadata": {
    "collapsed": false
   },
   "outputs": [
    {
     "data": {
      "application/javascript": [
       "require.config({\n",
       "    paths: {\n",
       "        d3: '//d3js.org/d3.v4.min'\n",
       "    }\n",
       "});"
      ],
      "text/plain": [
       "<IPython.core.display.Javascript object>"
      ]
     },
     "metadata": {},
     "output_type": "display_data"
    }
   ],
   "source": [
    "%%javascript\n",
    "require.config({\n",
    "    paths: {\n",
    "        d3: '//d3js.org/d3.v4.min'\n",
    "    }\n",
    "});"
   ]
  },
  {
   "cell_type": "code",
   "execution_count": 7,
   "metadata": {
    "collapsed": false,
    "scrolled": false
   },
   "outputs": [
    {
     "data": {
      "application/javascript": [
       "window.chartData={\"average_salary\":{\"TEACHERS RETIREMENT SYSTEM\":107669.0,\"CONFLICTS OF INTEREST BOARD\":103678.3333333333,\"CIVILIAN COMPLAINT REVIEW BD\":95774.71875,\"FINANCIAL INFO SVCS AGENCY\":88812.0555555556,\"DEPT OF INFO TECH & TELECOMM\":84214.358974359,\"FIRE DEPARTMENT\":83087.4765625,\"DISTRICT ATTORNEY RICHMOND COU\":81632.4444444444,\"OFFICE OF MANAGEMENT & BUDGET\":80500.25,\"ADMIN FOR CHILDREN'S SVCS\":80164.1733870968,\"DEPARTMENT FOR THE AGING\":79711.3461538462,\"EQUAL EMPLOY PRACTICES COMM\":79483.5,\"DEPARTMENT OF CITY PLANNING\":77768.2916666667,\"MAYORS OFFICE OF CONTRACT SVCS\":76281.25,\"DEPARTMENT OF SANITATION\":74082.0,\"DEPT OF ENVIRONMENT PROTECTION\":72911.9978021978,\"DEPARTMENT OF FINANCE\":72582.4367088608,\"OFFICE OF EMERGENCY MANAGEMENT\":71666.6666666667,\"OFFICE OF THE COMPTROLLER\":71605.84375,\"DEPT OF DESIGN & CONSTRUCTION\":71116.3215859031,\"DEPARTMENT OF INVESTIGATION\":69018.2903225807,\"BOARD OF CORRECTION\":68338.0714285714,\"DEPT. OF HOMELESS SERVICES\":67896.65625,\"HUMAN RIGHTS COMMISSION\":67769.6875,\"DEPARTMENT OF TRANSPORTATION\":67651.5485436893,\"OFF OF PAYROLL ADMINISTRATION\":66795.1818181818,\"DEPARTMENT OF BUSINESS SERV.\":66741.3676470588,\"ADMIN TRIALS AND HEARINGS\":66659.3083333333,\"DEPT OF HEALTH\\/MENTAL HYGIENE\":66564.4419535629,\"HOUSING PRESERVATION & DVLPMNT\":65946.8423423423,\"NYC EMPLOYEES RETIREMENT SYS\":65911.0416666667,\"CULTURAL AFFAIRS\":65081.5,\"CONSUMER AFFAIRS\":64999.8,\"TAXI & LIMOUSINE COMMISSION\":63111.2058823529,\"NYC HOUSING AUTHORITY\":62401.0543478261,\"DEPARTMENT OF CORRECTION\":60745.1814814815,\"HRA\\/DEPT OF SOCIAL SERVICES\":60064.2601626016,\"DEPT OF YOUTH & COMM DEV SRVS\":55161.3913043478,\"PRESIDENT BOROUGH OF MANHATTAN\":55000.0,\"LAW DEPARTMENT\":54309.6386861314,\"POLICE DEPARTMENT\":53279.43375,\"TAX COMMISSION\":52817.5,\"DISTRICT ATTORNEY KINGS COUNTY\":52383.375,\"DEPT OF RECORDS & INFO SERVICE\":52004.25,\"OFFICE OF LABOR RELATIONS\":47534.0,\"DEPARTMENT OF BUILDINGS\":47293.1935483871,\"DEPT OF CITYWIDE ADMIN SVCS\":45796.5263157895,\"BUSINESS INTEGRITY COMMISSION\":43171.1875,\"NYC POLICE PENSION FUND\":42288.0,\"DEPARTMENT OF PROBATION\":41967.5714285714,\"LANDMARKS PRESERVATION COMM\":38359.5,\"MANHATTAN COMMUNITY BOARD #10\":34774.0,\"DEPT OF PARKS & RECREATION\":29916.4649705015,\"OFFICE OF COLLECTIVE BARGAININ\":19000.0}};"
      ],
      "text/plain": [
       "<IPython.core.display.Javascript object>"
      ]
     },
     "execution_count": 7,
     "metadata": {},
     "output_type": "execute_result"
    }
   ],
   "source": [
    "from IPython.display import Javascript\n",
    "Javascript('window.chartData={};'.format(ordered_salaries.to_json()))"
   ]
  },
  {
   "cell_type": "code",
   "execution_count": 8,
   "metadata": {
    "collapsed": false
   },
   "outputs": [
    {
     "data": {
      "application/javascript": [
       "require(['d3'], function(d3){\n",
       "  $(\"#chart\").remove();\n",
       "  //create canvas\n",
       "  element.append(\"<div id='chart'></div>\");\n",
       "  $(\"#chart\").width(\"960px\");\n",
       "  $(\"#chart\").height(\"600px\");        \n",
       "  var margin = {top: 20, right: 20, bottom: 30, left: 40};\n",
       "  var width = 880 - margin.left - margin.right;\n",
       "  var height = 500 - margin.top - margin.bottom;\n",
       "  var svg = d3.select(\"#chart\").append(\"svg\")\n",
       "    //.style(\"position\", \"relative\")\n",
       "    //.style(\"max-width\", \"960px\")\n",
       "    .attr(\"width\", width + \"px\")\n",
       "    .attr(\"height\", (height + 50) + \"px\")\n",
       "    .append(\"g\")\n",
       "    .attr(\"transform\", \"translate(\" + margin.left + \",\" + margin.top + \")\");\n",
       "\n",
       "    svg.append(\"text\").attr('x',10).attr('y',100).text(JSON.stringify(chartData))\n",
       "});"
      ],
      "text/plain": [
       "<IPython.core.display.Javascript object>"
      ]
     },
     "metadata": {},
     "output_type": "display_data"
    }
   ],
   "source": [
    "%%javascript\n",
    "require(['d3'], function(d3){\n",
    "  $(\"#chart\").remove();\n",
    "  //create canvas\n",
    "  element.append(\"<div id='chart'></div>\");\n",
    "  $(\"#chart\").width(\"960px\");\n",
    "  $(\"#chart\").height(\"600px\");        \n",
    "  var margin = {top: 20, right: 20, bottom: 30, left: 40};\n",
    "  var width = 880 - margin.left - margin.right;\n",
    "  var height = 500 - margin.top - margin.bottom;\n",
    "  var svg = d3.select(\"#chart\").append(\"svg\")\n",
    "    //.style(\"position\", \"relative\")\n",
    "    //.style(\"max-width\", \"960px\")\n",
    "    .attr(\"width\", width + \"px\")\n",
    "    .attr(\"height\", (height + 50) + \"px\")\n",
    "    .append(\"g\")\n",
    "    .attr(\"transform\", \"translate(\" + margin.left + \",\" + margin.top + \")\");\n",
    "\n",
    "    svg.append(\"text\").attr('x',10).attr('y',100).text(JSON.stringify(chartData))\n",
    "});"
   ]
  }
 ],
 "metadata": {
  "kernelspec": {
   "display_name": "Python 2",
   "language": "python",
   "name": "python2"
  },
  "language_info": {
   "codemirror_mode": {
    "name": "ipython",
    "version": 2
   },
   "file_extension": ".py",
   "mimetype": "text/x-python",
   "name": "python",
   "nbconvert_exporter": "python",
   "pygments_lexer": "ipython2",
   "version": "2.7.11"
  }
 },
 "nbformat": 4,
 "nbformat_minor": 0
}
