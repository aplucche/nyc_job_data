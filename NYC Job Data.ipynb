{
 "cells": [
  {
   "cell_type": "code",
   "execution_count": 79,
   "metadata": {
    "collapsed": false,
    "scrolled": true
   },
   "outputs": [
    {
     "data": {
      "text/html": [
       "\n",
       "<script>\n",
       "var codeVisible = true; \n",
       "function code_toggle() {\n",
       " if (codeVisible){\n",
       "   $('div.input').hide();\n",
       " } else {\n",
       "   $('div.input').show();\n",
       " }\n",
       " codeVisible = !codeVisible\n",
       "} \n",
       "$( document ).ready(code_toggle);\n",
       "</script>\n",
       "<form action=\"javascript:code_toggle()\"><input type=\"submit\" value=\"Click here to toggle code visibility\"></form>\n"
      ],
      "text/plain": [
       "<IPython.core.display.HTML object>"
      ]
     },
     "execution_count": 79,
     "metadata": {},
     "output_type": "execute_result"
    }
   ],
   "source": [
    "from IPython.display import HTML\n",
    "HTML(\"\"\"\n",
    "<script>\n",
    "var codeVisible = true; \n",
    "function code_toggle() {\n",
    " if (codeVisible){\n",
    "   $('div.input').hide();\n",
    " } else {\n",
    "   $('div.input').show();\n",
    " }\n",
    " codeVisible = !codeVisible\n",
    "} \n",
    "$( document ).ready(code_toggle);\n",
    "</script>\n",
    "<form action=\"javascript:code_toggle()\"><input type=\"submit\" value=\"Click here to toggle code visibility\"></form>\n",
    "\"\"\")"
   ]
  },
  {
   "cell_type": "code",
   "execution_count": 3,
   "metadata": {
    "collapsed": false
   },
   "outputs": [],
   "source": [
    "import pandas as pd\n",
    "pd.set_option('display.max_columns', None)\n",
    "pd.options.mode.chained_assignment = None\n",
    "\n",
    "data_url = 'https://data.cityofnewyork.us/api/views/kpav-sd4t/rows.csv?accessType=DOWNLOAD'\n",
    "source_df = pd.read_csv(data_url)\n",
    "source_df = source_df.fillna('')\n",
    "df = source_df.drop_duplicates('Job ID')"
   ]
  },
  {
   "cell_type": "markdown",
   "metadata": {},
   "source": [
    "Method\n",
    "\n",
    "- We will use the midpoint of the salary range for each position.\n",
    "- For the purposes of this analysis all daily and hourly positions will be shown as full time:\n",
    "  - Hourly Positions will be estimated at 40 hours a week for 50 weeks\n",
    "  - Daily Salaries will be estimated at 5 days a week for 50 weeks\n",
    "- Time the job is left open will be used as a proxy for difficulty to fill\n",
    "  - This is calculated as the time from last update to the original posting date\n",
    "- Duplicate rows are removed - only first occurence of each Job ID is shown\n",
    "  \n",
    "  \n",
    "Notes:\n",
    "\n",
    "Positions like City Seasonal Aide and City Park Worker have hundreds of low paying open positons"
   ]
  },
  {
   "cell_type": "code",
   "execution_count": 4,
   "metadata": {
    "collapsed": false
   },
   "outputs": [],
   "source": [
    "#df[df['Agency']=='FIRE DEPARTMENT'].head(2)"
   ]
  },
  {
   "cell_type": "code",
   "execution_count": 63,
   "metadata": {
    "collapsed": false
   },
   "outputs": [],
   "source": [
    "external_posted_job_ids = source_df[source_df['Posting Type'] == 'External']['Job ID'].unique() # get unique IDs from full dataframe\n",
    "df['has_external_posting'] = [True if job_id in external_posted_job_ids else False for job_id in df['Job ID']]\n",
    "df.has_external_posting.value_counts()\n",
    "\n",
    "salary = df[['Agency','# Of Positions','Salary Range From', 'Salary Range To','Salary Frequency', 'has_external_posting']]\n",
    "salary['salary_midpoint'] = salary['Salary Range From'] + (salary['Salary Range To'] - salary['Salary Range From'])/2\n",
    "\n",
    "# Annualize Hourly and Daily rates (see http://stackoverflow.com/questions/12307099/modifying-a-subset-of-rows-in-a-pandas-dataframe)\n",
    "salary.ix[df['Salary Frequency'] =='Hourly', 'salary_midpoint'] = salary.ix[df['Salary Frequency'] =='Hourly', 'salary_midpoint'] * 40 * 50\n",
    "salary.ix[df['Salary Frequency'] =='Daily', 'salary_midpoint'] = salary.ix[df['Salary Frequency'] =='Daily', 'salary_midpoint'] * 5 * 50\n",
    "\n",
    "salary['salary_total'] = salary['# Of Positions'] * salary['salary_midpoint']\n",
    "\n",
    "salary_grouped = salary.groupby('Agency').sum()\n",
    "salary[salary['Salary Frequency'] == 'Annual'].head(5)\n",
    "salary_grouped['average_salary'] = salary_grouped['salary_total'] / salary_grouped['# Of Positions']\n",
    "#ordered_salaries = salary_grouped[['# Of Positions', 'average_salary']].sort_values('average_salary', ascending=False)\n",
    "ordered_salaries = salary_grouped[['average_salary']].sort_values('average_salary', ascending=True)\n",
    "ordered_salaries = ordered_salaries.reset_index()"
   ]
  },
  {
   "cell_type": "code",
   "execution_count": 6,
   "metadata": {
    "collapsed": false
   },
   "outputs": [
    {
     "data": {
      "application/javascript": [
       "require.config({\n",
       "    paths: {\n",
       "        d3: '//d3js.org/d3.v4.min'\n",
       "    }\n",
       "});"
      ],
      "text/plain": [
       "<IPython.core.display.Javascript object>"
      ]
     },
     "metadata": {},
     "output_type": "display_data"
    }
   ],
   "source": [
    "%%javascript\n",
    "require.config({\n",
    "    paths: {\n",
    "        d3: '//d3js.org/d3.v4.min'\n",
    "    }\n",
    "});"
   ]
  },
  {
   "cell_type": "code",
   "execution_count": 64,
   "metadata": {
    "collapsed": false
   },
   "outputs": [
    {
     "data": {
      "application/javascript": [
       "window.chartData=[{\"Agency\":\"OFFICE OF COLLECTIVE BARGAININ\",\"average_salary\":19000.0},{\"Agency\":\"DEPT OF PARKS & RECREATION\",\"average_salary\":29916.4649705015},{\"Agency\":\"MANHATTAN COMMUNITY BOARD #10\",\"average_salary\":34774.0},{\"Agency\":\"LANDMARKS PRESERVATION COMM\",\"average_salary\":38359.5},{\"Agency\":\"DEPARTMENT OF PROBATION\",\"average_salary\":41967.5714285714},{\"Agency\":\"NYC POLICE PENSION FUND\",\"average_salary\":42288.0},{\"Agency\":\"BUSINESS INTEGRITY COMMISSION\",\"average_salary\":43171.1875},{\"Agency\":\"DEPT OF CITYWIDE ADMIN SVCS\",\"average_salary\":45796.5263157895},{\"Agency\":\"DEPARTMENT OF BUILDINGS\",\"average_salary\":47293.1935483871},{\"Agency\":\"OFFICE OF LABOR RELATIONS\",\"average_salary\":47534.0},{\"Agency\":\"DEPT OF RECORDS & INFO SERVICE\",\"average_salary\":52004.25},{\"Agency\":\"DISTRICT ATTORNEY KINGS COUNTY\",\"average_salary\":52383.375},{\"Agency\":\"TAX COMMISSION\",\"average_salary\":52817.5},{\"Agency\":\"POLICE DEPARTMENT\",\"average_salary\":53279.43375},{\"Agency\":\"LAW DEPARTMENT\",\"average_salary\":54309.6386861314},{\"Agency\":\"PRESIDENT BOROUGH OF MANHATTAN\",\"average_salary\":55000.0},{\"Agency\":\"DEPT OF YOUTH & COMM DEV SRVS\",\"average_salary\":55161.3913043478},{\"Agency\":\"HRA\\/DEPT OF SOCIAL SERVICES\",\"average_salary\":60064.2601626016},{\"Agency\":\"DEPARTMENT OF CORRECTION\",\"average_salary\":60745.1814814815},{\"Agency\":\"NYC HOUSING AUTHORITY\",\"average_salary\":62401.0543478261},{\"Agency\":\"TAXI & LIMOUSINE COMMISSION\",\"average_salary\":63111.2058823529},{\"Agency\":\"CONSUMER AFFAIRS\",\"average_salary\":64999.8},{\"Agency\":\"CULTURAL AFFAIRS\",\"average_salary\":65081.5},{\"Agency\":\"NYC EMPLOYEES RETIREMENT SYS\",\"average_salary\":65911.0416666667},{\"Agency\":\"HOUSING PRESERVATION & DVLPMNT\",\"average_salary\":65946.8423423423},{\"Agency\":\"DEPT OF HEALTH\\/MENTAL HYGIENE\",\"average_salary\":66564.4419535629},{\"Agency\":\"ADMIN TRIALS AND HEARINGS\",\"average_salary\":66659.3083333333},{\"Agency\":\"DEPARTMENT OF BUSINESS SERV.\",\"average_salary\":66741.3676470588},{\"Agency\":\"OFF OF PAYROLL ADMINISTRATION\",\"average_salary\":66795.1818181818},{\"Agency\":\"DEPARTMENT OF TRANSPORTATION\",\"average_salary\":67651.5485436893},{\"Agency\":\"HUMAN RIGHTS COMMISSION\",\"average_salary\":67769.6875},{\"Agency\":\"DEPT. OF HOMELESS SERVICES\",\"average_salary\":67896.65625},{\"Agency\":\"BOARD OF CORRECTION\",\"average_salary\":68338.0714285714},{\"Agency\":\"DEPARTMENT OF INVESTIGATION\",\"average_salary\":69018.2903225807},{\"Agency\":\"DEPT OF DESIGN & CONSTRUCTION\",\"average_salary\":71116.3215859031},{\"Agency\":\"OFFICE OF THE COMPTROLLER\",\"average_salary\":71605.84375},{\"Agency\":\"OFFICE OF EMERGENCY MANAGEMENT\",\"average_salary\":71666.6666666667},{\"Agency\":\"DEPARTMENT OF FINANCE\",\"average_salary\":72582.4367088608},{\"Agency\":\"DEPT OF ENVIRONMENT PROTECTION\",\"average_salary\":72911.9978021978},{\"Agency\":\"DEPARTMENT OF SANITATION\",\"average_salary\":74082.0},{\"Agency\":\"MAYORS OFFICE OF CONTRACT SVCS\",\"average_salary\":76281.25},{\"Agency\":\"DEPARTMENT OF CITY PLANNING\",\"average_salary\":77768.2916666667},{\"Agency\":\"EQUAL EMPLOY PRACTICES COMM\",\"average_salary\":79483.5},{\"Agency\":\"DEPARTMENT FOR THE AGING\",\"average_salary\":79711.3461538462},{\"Agency\":\"ADMIN FOR CHILDREN'S SVCS\",\"average_salary\":80164.1733870968},{\"Agency\":\"OFFICE OF MANAGEMENT & BUDGET\",\"average_salary\":80500.25},{\"Agency\":\"DISTRICT ATTORNEY RICHMOND COU\",\"average_salary\":81632.4444444444},{\"Agency\":\"FIRE DEPARTMENT\",\"average_salary\":83087.4765625},{\"Agency\":\"DEPT OF INFO TECH & TELECOMM\",\"average_salary\":84214.358974359},{\"Agency\":\"FINANCIAL INFO SVCS AGENCY\",\"average_salary\":88812.0555555556},{\"Agency\":\"CIVILIAN COMPLAINT REVIEW BD\",\"average_salary\":95774.71875},{\"Agency\":\"CONFLICTS OF INTEREST BOARD\",\"average_salary\":103678.3333333333},{\"Agency\":\"TEACHERS RETIREMENT SYSTEM\",\"average_salary\":107669.0}];"
      ],
      "text/plain": [
       "<IPython.core.display.Javascript object>"
      ]
     },
     "execution_count": 64,
     "metadata": {},
     "output_type": "execute_result"
    }
   ],
   "source": [
    "from IPython.display import Javascript\n",
    "Javascript('window.chartData={};'.format(ordered_salaries.to_json(orient='records')))"
   ]
  },
  {
   "cell_type": "code",
   "execution_count": 86,
   "metadata": {
    "collapsed": false
   },
   "outputs": [
    {
     "data": {
      "text/html": [
       "\n",
       "<style>\n",
       "div.text_cell_render {\n",
       "    font-family: 'Roboto' sans-serif;\n",
       "    text-align: justify;\n",
       "    line-height: 130%;\n",
       "    font-size: 115%;\n",
       "    width:700px;\n",
       "}\n",
       "\n",
       ".bar {\n",
       "  fill: steelblue;\n",
       "}\n",
       ".axis path,\n",
       ".axis line {\n",
       "  fill: none;\n",
       "  stroke: #D4D8DA;\n",
       "  stroke-width: 1px;\n",
       "  shape-rendering: crispEdges;\n",
       "}\n",
       ".x path {\n",
       "  display: none;\n",
       "}\n",
       ".toolTip {\n",
       "\tposition: absolute;\n",
       "  display: none;\n",
       "  min-width: 80px;\n",
       "  height: auto;\n",
       "  background: none repeat scroll 0 0 #ffffff;\n",
       "  border: 1px solid #6F257F;\n",
       "  padding: 14px;\n",
       "  text-align: center;\n",
       "}\n",
       "</style>\n"
      ],
      "text/plain": [
       "<IPython.core.display.HTML object>"
      ]
     },
     "execution_count": 86,
     "metadata": {},
     "output_type": "execute_result"
    }
   ],
   "source": [
    "from IPython.display import HTML\n",
    "HTML(\"\"\"\n",
    "<style>\n",
    "div.text_cell_render {\n",
    "    font-family: 'Roboto' sans-serif;\n",
    "    text-align: justify;\n",
    "    line-height: 130%;\n",
    "    font-size: 115%;\n",
    "    width:700px;\n",
    "}\n",
    "\n",
    ".bar {\n",
    "  fill: steelblue;\n",
    "}\n",
    ".axis path,\n",
    ".axis line {\n",
    "  fill: none;\n",
    "  stroke: #D4D8DA;\n",
    "  stroke-width: 1px;\n",
    "  shape-rendering: crispEdges;\n",
    "}\n",
    ".x path {\n",
    "  display: none;\n",
    "}\n",
    ".toolTip {\n",
    "\tposition: absolute;\n",
    "  display: none;\n",
    "  min-width: 80px;\n",
    "  height: auto;\n",
    "  background: none repeat scroll 0 0 #ffffff;\n",
    "  border: 1px solid #6F257F;\n",
    "  padding: 14px;\n",
    "  text-align: center;\n",
    "}\n",
    "</style>\n",
    "\"\"\")"
   ]
  },
  {
   "cell_type": "code",
   "execution_count": 114,
   "metadata": {
    "collapsed": false
   },
   "outputs": [
    {
     "data": {
      "application/javascript": [
       "require(['d3'], function(d3){\n",
       "  $(\"#chart\").remove();\n",
       "  element.append(\"<div id='chart'></div>\");\n",
       "  $(\"#chart\").width(\"960px\");\n",
       "  $(\"#chart\").height(\"1200px\");\n",
       "\n",
       "  var margin = {top: 30, right: 20, bottom: 20, left: 120};\n",
       "  var width = 960 - margin.left - margin.right;\n",
       "  var height = 1100 - margin.top - margin.bottom;\n",
       "  var svg = d3.select(\"#chart\").append(\"svg\")\n",
       "    .attr(\"width\", width + margin.left + margin.right)\n",
       "    .attr(\"height\", height + margin.top + margin.bottom)\n",
       "    .append(\"g\")\n",
       "    .attr(\"transform\", \"translate(\" + margin.left + \",\" + margin.top + \")\");\n",
       "    \n",
       "  var x = d3.scaleLinear().range([0, width-margin.left - margin.right]);\n",
       "  var y = d3.scaleBand().range([height-margin.top - margin.bottom, 0]);\n",
       "  var data = window.chartData\n",
       "\n",
       "  var g = svg.append(\"g\")\n",
       "    .attr(\"transform\", \"translate(\" + margin.left + \",\" + margin.top + \")\");\n",
       "  x.domain([0, d3.max(data, function(d) { return d.average_salary; })]);\n",
       "  y.domain(data.map(function(d) { return d.Agency; })).padding(0.1);\n",
       "  g.append(\"g\")\n",
       "    .attr(\"class\", \"x axis\")\n",
       "    .call(d3.axisTop(x).ticks(5).tickFormat(function(d) { return d3.format(\"$,.2s\")(d); }));\n",
       "    \n",
       "  svg.append(\"text\")             \n",
       "      .attr(\"transform\",\"translate(\" + (width/2) + \" ,\" + 0 + \")\")\n",
       "      .style(\"text-anchor\", \"middle\")\n",
       "      .text(\"NYC City Jobs - Average Salary by Department\");\n",
       "\n",
       "  g.append(\"g\")\n",
       "    .attr(\"class\", \"y axis\")\n",
       "    .call(d3.axisLeft(y));\n",
       "  g.selectAll(\".bar\")\n",
       "    .data(data)\n",
       "  .enter().append(\"rect\")\n",
       "    .attr(\"class\", \"bar\")\n",
       "    .attr(\"x\", 0)\n",
       "    .attr(\"height\", y.bandwidth())\n",
       "    .attr(\"y\", function(d) { return y(d.Agency); })\n",
       "    .attr(\"width\", function(d) { return x(d.average_salary); })\n",
       "  \n",
       "\n",
       "});"
      ],
      "text/plain": [
       "<IPython.core.display.Javascript object>"
      ]
     },
     "metadata": {},
     "output_type": "display_data"
    }
   ],
   "source": [
    "%%javascript\n",
    "require(['d3'], function(d3){\n",
    "  $(\"#chart\").remove();\n",
    "  element.append(\"<div id='chart'></div>\");\n",
    "  $(\"#chart\").width(\"960px\");\n",
    "  $(\"#chart\").height(\"1200px\");\n",
    "\n",
    "  var margin = {top: 30, right: 20, bottom: 20, left: 120};\n",
    "  var width = 960 - margin.left - margin.right;\n",
    "  var height = 1100 - margin.top - margin.bottom;\n",
    "  var svg = d3.select(\"#chart\").append(\"svg\")\n",
    "    .attr(\"width\", width + margin.left + margin.right)\n",
    "    .attr(\"height\", height + margin.top + margin.bottom)\n",
    "    .append(\"g\")\n",
    "    .attr(\"transform\", \"translate(\" + margin.left + \",\" + margin.top + \")\");\n",
    "    \n",
    "  var x = d3.scaleLinear().range([0, width-margin.left - margin.right]);\n",
    "  var y = d3.scaleBand().range([height-margin.top - margin.bottom, 0]);\n",
    "  var data = window.chartData\n",
    "\n",
    "  var g = svg.append(\"g\")\n",
    "    .attr(\"transform\", \"translate(\" + margin.left + \",\" + margin.top + \")\");\n",
    "  x.domain([0, d3.max(data, function(d) { return d.average_salary; })]);\n",
    "  y.domain(data.map(function(d) { return d.Agency; })).padding(0.1);\n",
    "  g.append(\"g\")\n",
    "    .attr(\"class\", \"x axis\")\n",
    "    .call(d3.axisTop(x).ticks(5).tickFormat(function(d) { return d3.format(\"$,.2s\")(d); }));\n",
    "    \n",
    "  svg.append(\"text\")             \n",
    "      .attr(\"transform\",\"translate(\" + (width/2) + \" ,\" + 0 + \")\")\n",
    "      .style(\"text-anchor\", \"middle\")\n",
    "      .text(\"NYC City Jobs - Average Salary by Department\");\n",
    "\n",
    "  g.append(\"g\")\n",
    "    .attr(\"class\", \"y axis\")\n",
    "    .call(d3.axisLeft(y));\n",
    "  g.selectAll(\".bar\")\n",
    "    .data(data)\n",
    "  .enter().append(\"rect\")\n",
    "    .attr(\"class\", \"bar\")\n",
    "    .attr(\"x\", 0)\n",
    "    .attr(\"height\", y.bandwidth())\n",
    "    .attr(\"y\", function(d) { return y(d.Agency); })\n",
    "    .attr(\"width\", function(d) { return x(d.average_salary); })\n",
    "});"
   ]
  }
 ],
 "metadata": {
  "kernelspec": {
   "display_name": "Python 2",
   "language": "python",
   "name": "python2"
  },
  "language_info": {
   "codemirror_mode": {
    "name": "ipython",
    "version": 2
   },
   "file_extension": ".py",
   "mimetype": "text/x-python",
   "name": "python",
   "nbconvert_exporter": "python",
   "pygments_lexer": "ipython2",
   "version": "2.7.11"
  }
 },
 "nbformat": 4,
 "nbformat_minor": 0
}
