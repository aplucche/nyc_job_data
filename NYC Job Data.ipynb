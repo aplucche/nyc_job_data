{
 "cells": [
  {
   "cell_type": "code",
   "execution_count": 231,
   "metadata": {
    "collapsed": false,
    "scrolled": true
   },
   "outputs": [
    {
     "data": {
      "text/html": [
       "\n",
       "<link href='https://fonts.googleapis.com/css?family=Roboto' rel='stylesheet' type='text/css'>\n",
       "<style>\n",
       "div.text_cell_render {\n",
       "    font-family: 'Roboto' sans-serif;\n",
       "    text-align: justify;\n",
       "    padding-left: 100px;\n",
       "    padding-right:100px;\n",
       "    line-height: 130%;\n",
       "    font-size: 115%;\n",
       "    width: inherit;\n",
       "}\n",
       "\n",
       ".dataframe * {\n",
       "    border: 1px solid lightgray !important;\n",
       "}\n",
       "div.output_prompt {display: none;}\n",
       "div.prompt {display: none;}\n",
       "\n",
       "@media only screen and (max-width: 500px) {\n",
       "div.text_cell_render {\n",
       "    padding-left: 0px;\n",
       "    padding-right: 0px;\n",
       "}\n",
       "}\n",
       "\n",
       "\n",
       "</style>\n",
       "\n",
       "<script>\n",
       "var codeVisible = true; \n",
       "function code_toggle() {\n",
       " if (codeVisible){\n",
       "   $('div.input').hide();\n",
       " } else {\n",
       "   $('div.input').show();\n",
       " }\n",
       " codeVisible = !codeVisible\n",
       "} \n",
       "$( document ).ready(code_toggle);\n",
       "</script>\n",
       "<form action=\"javascript:code_toggle()\"><input type=\"submit\" value=\"Click here to toggle code visibility\"></form>\n"
      ],
      "text/plain": [
       "<IPython.core.display.HTML object>"
      ]
     },
     "execution_count": 231,
     "metadata": {},
     "output_type": "execute_result"
    }
   ],
   "source": [
    "# Add notebook styling and button used to toggle code visibility\n",
    "from IPython.display import HTML\n",
    "HTML(\"\"\"\n",
    "<link href='https://fonts.googleapis.com/css?family=Roboto' rel='stylesheet' type='text/css'>\n",
    "<style>\n",
    "div.text_cell_render {\n",
    "    font-family: 'Roboto' sans-serif;\n",
    "    text-align: justify;\n",
    "    padding-left: 100px;\n",
    "    padding-right:100px;\n",
    "    line-height: 130%;\n",
    "    font-size: 115%;\n",
    "    width: inherit;\n",
    "}\n",
    "\n",
    ".dataframe * {\n",
    "    border: 1px solid lightgray !important;\n",
    "}\n",
    "div.output_prompt {display: none;}\n",
    "div.prompt {display: none;}\n",
    "\n",
    "@media only screen and (max-width: 500px) {\n",
    "  div.text_cell_render {\n",
    "    padding-left: 0px;\n",
    "    padding-right: 0px;\n",
    "  }\n",
    "}\n",
    "</style>\n",
    "\n",
    "<script>\n",
    "var codeVisible = true; \n",
    "function code_toggle() {\n",
    " if (codeVisible){\n",
    "   $('div.input').hide();\n",
    " } else {\n",
    "   $('div.input').show();\n",
    " }\n",
    " codeVisible = !codeVisible\n",
    "} \n",
    "$( document ).ready(code_toggle);\n",
    "</script>\n",
    "<form action=\"javascript:code_toggle()\"><input type=\"submit\" value=\"Click here to toggle code visibility\"></form>\n",
    "\"\"\")"
   ]
  },
  {
   "cell_type": "code",
   "execution_count": 11,
   "metadata": {
    "collapsed": false
   },
   "outputs": [],
   "source": [
    "import pandas as pd\n",
    "pd.set_option('display.max_columns', None)\n",
    "pd.options.mode.chained_assignment = None\n",
    "\n",
    "data_url = 'https://data.cityofnewyork.us/api/views/kpav-sd4t/rows.csv?accessType=DOWNLOAD'\n",
    "source_df = pd.read_csv(data_url)\n",
    "source_df = source_df.fillna('')"
   ]
  },
  {
   "cell_type": "markdown",
   "metadata": {},
   "source": [
    "## Job Data for NYC's municipal agencies\n",
    "\n",
    "Through [NYC Open Data](http://opendata.cityofnewyork.us/) the city provides data on open jobs for city agencies. It is a rich dataset including information like salary ranges, job requirements, and posting dates.  We use this data to compare different agencies, although differences between the dataset and the agency's own career portals suggest it is not completely up to date."
   ]
  },
  {
   "cell_type": "code",
   "execution_count": 219,
   "metadata": {
    "collapsed": false
   },
   "outputs": [],
   "source": [
    "df = source_df.drop_duplicates('Job ID')\n",
    "\n",
    "#Add 3 extra columns to dataframe - salary_midpoint, has_external_posting and annualized_salary\n",
    "external_posted_job_ids = source_df[source_df['Posting Type'] == 'External']['Job ID'].unique() # get list of unique IDs from full dataframe\n",
    "df['has_external_posting'] = [True if job_id in external_posted_job_ids else False for job_id in df['Job ID']]\n",
    "\n",
    "df['salary_midpoint'] = df['Salary Range From'] + (df['Salary Range To'] - df['Salary Range From'])/2\n",
    "\n",
    "# Annualize Hourly and Daily rates\n",
    "df.ix[df['Salary Frequency'] =='Annual', 'annualized_salary'] = df.ix[df['Salary Frequency'] =='Annual', 'salary_midpoint']\n",
    "df.ix[df['Salary Frequency'] =='Hourly', 'annualized_salary'] = df.ix[df['Salary Frequency'] =='Hourly', 'salary_midpoint'] * 40 * 50\n",
    "df.ix[df['Salary Frequency'] =='Daily', 'annualized_salary'] = df.ix[df['Salary Frequency'] =='Daily', 'salary_midpoint'] * 5 * 50\n",
    "df['total_position_expenditure'] = df['# Of Positions'] * df['annualized_salary']\n",
    "\n",
    "grouped_df = df.groupby('Agency').sum()\n",
    "grouped_df['average_salary'] = grouped_df['total_position_expenditure'] / grouped_df['# Of Positions']\n",
    "\n",
    "#Create dataset for 'Salaries by Agency' chart\n",
    "ordered_salaries = grouped_df[['average_salary']].sort_values('average_salary', ascending=True)\n",
    "ordered_salaries = ordered_salaries.reset_index()\n",
    "\n",
    "#Create dataset for position count chart\n",
    "ordered_position_counts = grouped_df[['# Of Positions']].sort_values('# Of Positions', ascending=True)\n",
    "ordered_position_counts = ordered_position_counts.reset_index()"
   ]
  },
  {
   "cell_type": "code",
   "execution_count": 6,
   "metadata": {
    "collapsed": false
   },
   "outputs": [
    {
     "data": {
      "application/javascript": [
       "require.config({\n",
       "    paths: {\n",
       "        d3: '//d3js.org/d3.v4.min'\n",
       "    }\n",
       "});"
      ],
      "text/plain": [
       "<IPython.core.display.Javascript object>"
      ]
     },
     "metadata": {},
     "output_type": "display_data"
    }
   ],
   "source": [
    "%%javascript\n",
    "require.config({\n",
    "    paths: {\n",
    "        d3: '//d3js.org/d3.v4.min'\n",
    "    }\n",
    "});"
   ]
  },
  {
   "cell_type": "code",
   "execution_count": 144,
   "metadata": {
    "collapsed": false
   },
   "outputs": [
    {
     "data": {
      "application/javascript": [
       "window.chartData=[{\"Agency\":\"OFFICE OF COLLECTIVE BARGAININ\",\"average_salary\":19000.0},{\"Agency\":\"DEPT OF PARKS & RECREATION\",\"average_salary\":28917.0586025545},{\"Agency\":\"MANHATTAN COMMUNITY BOARD #10\",\"average_salary\":34774.0},{\"Agency\":\"BUSINESS INTEGRITY COMMISSION\",\"average_salary\":40824.75},{\"Agency\":\"DEPARTMENT OF BUILDINGS\",\"average_salary\":46256.9744525547},{\"Agency\":\"TAX COMMISSION\",\"average_salary\":48813.8333333333},{\"Agency\":\"LAW DEPARTMENT\",\"average_salary\":50555.9426229508},{\"Agency\":\"DEPT OF YOUTH & COMM DEV SRVS\",\"average_salary\":50670.1744186046},{\"Agency\":\"POLICE DEPARTMENT\",\"average_salary\":52771.3603896104},{\"Agency\":\"CULTURAL AFFAIRS\",\"average_salary\":53761.0},{\"Agency\":\"DEPARTMENT OF PROBATION\",\"average_salary\":54368.0555555556},{\"Agency\":\"PRESIDENT BOROUGH OF MANHATTAN\",\"average_salary\":55000.0},{\"Agency\":\"HRA\\/DEPT OF SOCIAL SERVICES\",\"average_salary\":59965.6705426357},{\"Agency\":\"DISTRICT ATTORNEY KINGS COUNTY\",\"average_salary\":60381.9166666667},{\"Agency\":\"HUMAN RIGHTS COMMISSION\",\"average_salary\":60679.0857142857},{\"Agency\":\"DEPARTMENT OF CORRECTION\",\"average_salary\":61653.8722627737},{\"Agency\":\"NYC HOUSING AUTHORITY\",\"average_salary\":62758.7302158273},{\"Agency\":\"ADMIN TRIALS AND HEARINGS\",\"average_salary\":62769.8141025641},{\"Agency\":\"TAXI & LIMOUSINE COMMISSION\",\"average_salary\":62987.7567567568},{\"Agency\":\"OFF OF PAYROLL ADMINISTRATION\",\"average_salary\":63737.6111111111},{\"Agency\":\"DEPARTMENT OF BUSINESS SERV.\",\"average_salary\":65173.1944444444},{\"Agency\":\"OFFICE OF LABOR RELATIONS\",\"average_salary\":65213.0},{\"Agency\":\"CONSUMER AFFAIRS\",\"average_salary\":65329.6956521739},{\"Agency\":\"DEPT. OF HOMELESS SERVICES\",\"average_salary\":65501.8095238095},{\"Agency\":\"DEPARTMENT OF SANITATION\",\"average_salary\":65726.9130434783},{\"Agency\":\"DEPT OF HEALTH\\/MENTAL HYGIENE\",\"average_salary\":65750.5867521367},{\"Agency\":\"NYC EMPLOYEES RETIREMENT SYS\",\"average_salary\":65950.9615384615},{\"Agency\":\"OFFICE OF EMERGENCY MANAGEMENT\",\"average_salary\":66888.8888888889},{\"Agency\":\"DEPARTMENT OF TRANSPORTATION\",\"average_salary\":67450.7299107143},{\"Agency\":\"DEPARTMENT OF INVESTIGATION\",\"average_salary\":67598.890625},{\"Agency\":\"HOUSING PRESERVATION & DVLPMNT\",\"average_salary\":68199.2916666667},{\"Agency\":\"BOARD OF CORRECTION\",\"average_salary\":68338.0714285714},{\"Agency\":\"DEPARTMENT OF FINANCE\",\"average_salary\":68753.7405063291},{\"Agency\":\"DEPT OF DESIGN & CONSTRUCTION\",\"average_salary\":71375.0045454545},{\"Agency\":\"CONFLICTS OF INTEREST BOARD\",\"average_salary\":71858.0},{\"Agency\":\"DEPT OF ENVIRONMENT PROTECTION\",\"average_salary\":72348.5649350649},{\"Agency\":\"DISTRICT ATTORNEY RICHMOND COU\",\"average_salary\":72392.5},{\"Agency\":\"OFFICE OF THE COMPTROLLER\",\"average_salary\":72837.6166666667},{\"Agency\":\"MAYORS OFFICE OF CONTRACT SVCS\",\"average_salary\":74640.0},{\"Agency\":\"ADMIN FOR CHILDREN'S SVCS\",\"average_salary\":75660.1029411765},{\"Agency\":\"DEPARTMENT FOR THE AGING\",\"average_salary\":75759.9444444444},{\"Agency\":\"EQUAL EMPLOY PRACTICES COMM\",\"average_salary\":79483.5},{\"Agency\":\"DEPT OF CITYWIDE ADMIN SVCS\",\"average_salary\":80277.2073170732},{\"Agency\":\"DEPT OF INFO TECH & TELECOMM\",\"average_salary\":81367.839869281},{\"Agency\":\"CIVILIAN COMPLAINT REVIEW BD\",\"average_salary\":81441.4047619048},{\"Agency\":\"FIRE DEPARTMENT\",\"average_salary\":85027.8796296296},{\"Agency\":\"DEPARTMENT OF CITY PLANNING\",\"average_salary\":86934.1666666667},{\"Agency\":\"FINANCIAL INFO SVCS AGENCY\",\"average_salary\":87586.3888888889},{\"Agency\":\"OFFICE OF MANAGEMENT & BUDGET\",\"average_salary\":106475.0}];"
      ],
      "text/plain": [
       "<IPython.core.display.Javascript object>"
      ]
     },
     "execution_count": 144,
     "metadata": {},
     "output_type": "execute_result"
    }
   ],
   "source": [
    "from IPython.display import Javascript\n",
    "Javascript('window.chartData={};'.format(ordered_salaries.to_json(orient='records')))"
   ]
  },
  {
   "cell_type": "code",
   "execution_count": 80,
   "metadata": {
    "collapsed": false
   },
   "outputs": [
    {
     "data": {
      "text/html": [
       "\n",
       "<style>\n",
       ".bar {\n",
       "  fill: steelblue;\n",
       "}\n",
       ".axis path,\n",
       ".axis line {\n",
       "  fill: none;\n",
       "  stroke: #D4D8DA;\n",
       "  stroke-width: 1px;\n",
       "  shape-rendering: crispEdges;\n",
       "}\n",
       ".x path {\n",
       "  display: none;\n",
       "}\n",
       ".toolTip {\n",
       "\tposition: absolute;\n",
       "  display: none;\n",
       "  min-width: 80px;\n",
       "  height: auto;\n",
       "  background: none repeat scroll 0 0 #ffffff;\n",
       "  border: 1px solid #6F257F;\n",
       "  padding: 14px;\n",
       "  text-align: center;\n",
       "}\n",
       "</style>\n"
      ],
      "text/plain": [
       "<IPython.core.display.HTML object>"
      ]
     },
     "execution_count": 80,
     "metadata": {},
     "output_type": "execute_result"
    }
   ],
   "source": [
    "from IPython.display import HTML\n",
    "HTML(\"\"\"\n",
    "<style>\n",
    ".bar {\n",
    "  fill: steelblue;\n",
    "}\n",
    ".axis path,\n",
    ".axis line {\n",
    "  fill: none;\n",
    "  stroke: #D4D8DA;\n",
    "  stroke-width: 1px;\n",
    "  shape-rendering: crispEdges;\n",
    "}\n",
    ".x path {\n",
    "  display: none;\n",
    "}\n",
    ".toolTip {\n",
    "\tposition: absolute;\n",
    "  display: none;\n",
    "  min-width: 80px;\n",
    "  height: auto;\n",
    "  background: none repeat scroll 0 0 #ffffff;\n",
    "  border: 1px solid #6F257F;\n",
    "  padding: 14px;\n",
    "  text-align: center;\n",
    "}\n",
    "</style>\n",
    "\"\"\")"
   ]
  },
  {
   "cell_type": "code",
   "execution_count": 147,
   "metadata": {
    "collapsed": false
   },
   "outputs": [
    {
     "data": {
      "application/javascript": [
       "window.createBarChart = function createBarChart(el, chartData, metric, title, xAxisFormat,d3) {\n",
       "  var margin = {top: 30, right: 20, bottom: 20, left: 120};\n",
       "  var width = 960 - margin.left - margin.right;\n",
       "  var height = 1100 - margin.top - margin.bottom;\n",
       "  var svg = d3.select(el).append(\"svg\")\n",
       "    .attr(\"width\", width + margin.left + margin.right)\n",
       "    .attr(\"height\", height + margin.top + margin.bottom)\n",
       "    .append(\"g\")\n",
       "    .attr(\"transform\", \"translate(\" + margin.left + \",\" + margin.top + \")\");\n",
       "    \n",
       "  var x = d3.scaleLinear().range([0, width-margin.left - margin.right]);\n",
       "  var y = d3.scaleBand().range([height-margin.top - margin.bottom, 0]);\n",
       "  var data = chartData\n",
       "\n",
       "  var g = svg.append(\"g\")\n",
       "    .attr(\"transform\", \"translate(\" + margin.left + \",\" + margin.top + \")\");\n",
       "  x.domain([0, d3.max(data, function(d) { return d[metric]; })]);\n",
       "  y.domain(data.map(function(d) { return d.Agency; })).padding(0.1);\n",
       "  g.append(\"g\")\n",
       "    .attr(\"class\", \"x axis\")\n",
       "    .call(d3.axisTop(x).ticks(5).tickFormat(function(d) { return d3.format(xAxisFormat)(d); }));\n",
       "    \n",
       "  svg.append(\"text\")             \n",
       "      .attr(\"transform\",\"translate(\" + (width/2) + \" ,\" + 0 + \")\")\n",
       "      .style(\"text-anchor\", \"middle\")\n",
       "      .text(title);\n",
       "\n",
       "  g.append(\"g\")\n",
       "    .attr(\"class\", \"y axis\")\n",
       "    .call(d3.axisLeft(y));\n",
       "  g.selectAll(\".bar\")\n",
       "    .data(data)\n",
       "  .enter().append(\"rect\")\n",
       "    .attr(\"class\", \"bar\")\n",
       "    .attr(\"x\", 0)\n",
       "    .attr(\"height\", y.bandwidth())\n",
       "    .attr(\"y\", function(d) { return y(d.Agency); })\n",
       "    .attr(\"width\", function(d) { return x(d[metric]); })\n",
       "}"
      ],
      "text/plain": [
       "<IPython.core.display.Javascript object>"
      ]
     },
     "metadata": {},
     "output_type": "display_data"
    }
   ],
   "source": [
    "%%javascript\n",
    "window.createBarChart = function createBarChart(el, chartData, metric, title, xAxisFormat,d3) {\n",
    "  var margin = {top: 30, right: 20, bottom: 20, left: 120};\n",
    "  var width = 960 - margin.left - margin.right;\n",
    "  var height = 1100 - margin.top - margin.bottom;\n",
    "  var svg = d3.select(el).append(\"svg\")\n",
    "    .attr(\"width\", width + margin.left + margin.right)\n",
    "    .attr(\"height\", height + margin.top + margin.bottom)\n",
    "    .append(\"g\")\n",
    "    .attr(\"transform\", \"translate(\" + margin.left + \",\" + margin.top + \")\");\n",
    "    \n",
    "  var x = d3.scaleLinear().range([0, width-margin.left - margin.right]);\n",
    "  var y = d3.scaleBand().range([height-margin.top - margin.bottom, 0]);\n",
    "  var data = chartData\n",
    "\n",
    "  var g = svg.append(\"g\")\n",
    "    .attr(\"transform\", \"translate(\" + margin.left + \",\" + margin.top + \")\");\n",
    "  x.domain([0, d3.max(data, function(d) { return d[metric]; })]);\n",
    "  y.domain(data.map(function(d) { return d.Agency; })).padding(0.1);\n",
    "  g.append(\"g\")\n",
    "    .attr(\"class\", \"x axis\")\n",
    "    .call(d3.axisTop(x).ticks(5).tickFormat(function(d) { return d3.format(xAxisFormat)(d); }));\n",
    "    \n",
    "  svg.append(\"text\")             \n",
    "      .attr(\"transform\",\"translate(\" + (width/2) + \" ,\" + 0 + \")\")\n",
    "      .style(\"text-anchor\", \"middle\")\n",
    "      .text(title);\n",
    "\n",
    "  g.append(\"g\")\n",
    "    .attr(\"class\", \"y axis\")\n",
    "    .call(d3.axisLeft(y));\n",
    "  g.selectAll(\".bar\")\n",
    "    .data(data)\n",
    "  .enter().append(\"rect\")\n",
    "    .attr(\"class\", \"bar\")\n",
    "    .attr(\"x\", 0)\n",
    "    .attr(\"height\", y.bandwidth())\n",
    "    .attr(\"y\", function(d) { return y(d.Agency); })\n",
    "    .attr(\"width\", function(d) { return x(d[metric]); })\n",
    "}"
   ]
  },
  {
   "cell_type": "markdown",
   "metadata": {},
   "source": [
    "## Salaries by Agency\n",
    "\n",
    "Salaries ranked by Agency are shown below.  The list is topped by The Office of Management & Budget which acts as the city's chief financial agency. The agency only has one position in this dataset and it is a high paying one - the Deputy Chief of Staff."
   ]
  },
  {
   "cell_type": "code",
   "execution_count": 225,
   "metadata": {
    "collapsed": false,
    "scrolled": true
   },
   "outputs": [
    {
     "data": {
      "application/javascript": [
       "require(['d3'], function(d3){\n",
       "    \n",
       "$('#chart').remove();\n",
       "element.append(\"<div id='chart'></div>\");\n",
       "//$('#chart').width(\"960px\");\n",
       "//$('#chart').height(\"1200px\");\n",
       "$('#chart').width(\"90vw\");\n",
       "$('#chart').height(\"1200px\");   \n",
       "\n",
       "\n",
       "window.createBarChart('#chart',\n",
       "                      window.chartData,\n",
       "                      'average_salary',\n",
       "                      'NYC City Jobs - Average Salary by Department',\n",
       "                      \"$,.2s\",\n",
       "                      d3)\n",
       "});"
      ],
      "text/plain": [
       "<IPython.core.display.Javascript object>"
      ]
     },
     "metadata": {},
     "output_type": "display_data"
    }
   ],
   "source": [
    "%%javascript\n",
    "require(['d3'], function(d3){\n",
    "    \n",
    "$('#chart').remove();\n",
    "element.append(\"<div id='chart'></div>\");\n",
    "//$('#chart').width(\"960px\");\n",
    "//$('#chart').height(\"1200px\");\n",
    "$('#chart').width(\"90vw\");\n",
    "$('#chart').height(\"1200px\");   \n",
    "\n",
    "\n",
    "window.createBarChart('#chart',\n",
    "                      window.chartData,\n",
    "                      'average_salary',\n",
    "                      'NYC City Jobs - Average Salary by Department',\n",
    "                      \"$,.2s\",\n",
    "                      d3)\n",
    "});"
   ]
  },
  {
   "cell_type": "markdown",
   "metadata": {},
   "source": [
    "## Open Positions\n",
    "\n",
    "Topping the list of open positions by agency is the Department of Parks and Recreation which is currently hiring hundreds of seasonal park workers at a low hourly rate. This also explains the department's low placement in the average salary chart."
   ]
  },
  {
   "cell_type": "code",
   "execution_count": 149,
   "metadata": {
    "collapsed": false
   },
   "outputs": [
    {
     "data": {
      "application/javascript": [
       "window.positionCountData=[{\"Agency\":\"OFFICE OF MANAGEMENT & BUDGET\",\"# Of Positions\":1},{\"Agency\":\"PRESIDENT BOROUGH OF MANHATTAN\",\"# Of Positions\":1},{\"Agency\":\"MANHATTAN COMMUNITY BOARD #10\",\"# Of Positions\":1},{\"Agency\":\"OFFICE OF COLLECTIVE BARGAININ\",\"# Of Positions\":1},{\"Agency\":\"CONFLICTS OF INTEREST BOARD\",\"# Of Positions\":1},{\"Agency\":\"EQUAL EMPLOY PRACTICES COMM\",\"# Of Positions\":1},{\"Agency\":\"OFFICE OF LABOR RELATIONS\",\"# Of Positions\":2},{\"Agency\":\"TAX COMMISSION\",\"# Of Positions\":6},{\"Agency\":\"DEPARTMENT OF CITY PLANNING\",\"# Of Positions\":6},{\"Agency\":\"DISTRICT ATTORNEY KINGS COUNTY\",\"# Of Positions\":6},{\"Agency\":\"CULTURAL AFFAIRS\",\"# Of Positions\":6},{\"Agency\":\"BUSINESS INTEGRITY COMMISSION\",\"# Of Positions\":6},{\"Agency\":\"BOARD OF CORRECTION\",\"# Of Positions\":7},{\"Agency\":\"DEPARTMENT FOR THE AGING\",\"# Of Positions\":9},{\"Agency\":\"FINANCIAL INFO SVCS AGENCY\",\"# Of Positions\":9},{\"Agency\":\"OFF OF PAYROLL ADMINISTRATION\",\"# Of Positions\":9},{\"Agency\":\"DEPARTMENT OF PROBATION\",\"# Of Positions\":9},{\"Agency\":\"DISTRICT ATTORNEY RICHMOND COU\",\"# Of Positions\":13},{\"Agency\":\"OFFICE OF EMERGENCY MANAGEMENT\",\"# Of Positions\":18},{\"Agency\":\"CIVILIAN COMPLAINT REVIEW BD\",\"# Of Positions\":21},{\"Agency\":\"CONSUMER AFFAIRS\",\"# Of Positions\":23},{\"Agency\":\"DEPARTMENT OF SANITATION\",\"# Of Positions\":23},{\"Agency\":\"MAYORS OFFICE OF CONTRACT SVCS\",\"# Of Positions\":25},{\"Agency\":\"NYC EMPLOYEES RETIREMENT SYS\",\"# Of Positions\":26},{\"Agency\":\"OFFICE OF THE COMPTROLLER\",\"# Of Positions\":30},{\"Agency\":\"DEPARTMENT OF INVESTIGATION\",\"# Of Positions\":32},{\"Agency\":\"HUMAN RIGHTS COMMISSION\",\"# Of Positions\":35},{\"Agency\":\"DEPARTMENT OF BUSINESS SERV.\",\"# Of Positions\":36},{\"Agency\":\"TAXI & LIMOUSINE COMMISSION\",\"# Of Positions\":37},{\"Agency\":\"DEPT OF CITYWIDE ADMIN SVCS\",\"# Of Positions\":41},{\"Agency\":\"DEPT. OF HOMELESS SERVICES\",\"# Of Positions\":42},{\"Agency\":\"DEPT OF YOUTH & COMM DEV SRVS\",\"# Of Positions\":43},{\"Agency\":\"FIRE DEPARTMENT\",\"# Of Positions\":54},{\"Agency\":\"ADMIN TRIALS AND HEARINGS\",\"# Of Positions\":78},{\"Agency\":\"DEPARTMENT OF FINANCE\",\"# Of Positions\":79},{\"Agency\":\"HOUSING PRESERVATION & DVLPMNT\",\"# Of Positions\":84},{\"Agency\":\"LAW DEPARTMENT\",\"# Of Positions\":122},{\"Agency\":\"HRA\\/DEPT OF SOCIAL SERVICES\",\"# Of Positions\":129},{\"Agency\":\"ADMIN FOR CHILDREN'S SVCS\",\"# Of Positions\":136},{\"Agency\":\"DEPARTMENT OF CORRECTION\",\"# Of Positions\":137},{\"Agency\":\"DEPARTMENT OF BUILDINGS\",\"# Of Positions\":137},{\"Agency\":\"NYC HOUSING AUTHORITY\",\"# Of Positions\":139},{\"Agency\":\"DEPT OF INFO TECH & TELECOMM\",\"# Of Positions\":153},{\"Agency\":\"DEPT OF DESIGN & CONSTRUCTION\",\"# Of Positions\":220},{\"Agency\":\"DEPARTMENT OF TRANSPORTATION\",\"# Of Positions\":224},{\"Agency\":\"DEPT OF ENVIRONMENT PROTECTION\",\"# Of Positions\":462},{\"Agency\":\"POLICE DEPARTMENT\",\"# Of Positions\":462},{\"Agency\":\"DEPT OF HEALTH\\/MENTAL HYGIENE\",\"# Of Positions\":1170},{\"Agency\":\"DEPT OF PARKS & RECREATION\",\"# Of Positions\":1331}];"
      ],
      "text/plain": [
       "<IPython.core.display.Javascript object>"
      ]
     },
     "execution_count": 149,
     "metadata": {},
     "output_type": "execute_result"
    }
   ],
   "source": [
    "from IPython.display import Javascript\n",
    "Javascript('window.positionCountData={};'.format(ordered_position_counts.to_json(orient='records')))"
   ]
  },
  {
   "cell_type": "code",
   "execution_count": 150,
   "metadata": {
    "collapsed": false,
    "scrolled": true
   },
   "outputs": [
    {
     "data": {
      "application/javascript": [
       "require(['d3'], function(d3){\n",
       "  $('#chart2').remove();\n",
       "  element.append(\"<div id='chart2'></div>\");\n",
       "  $('#chart2').width(\"960px\");\n",
       "  $('#chart2').height(\"1200px\");\n",
       "  createBarChart('#chart2',\n",
       "                 window.positionCountData,\n",
       "                 '# Of Positions',\n",
       "                 'NYC City Jobs - Open Positions by Department',\n",
       "                 \",\",\n",
       "                 d3)\n",
       "});"
      ],
      "text/plain": [
       "<IPython.core.display.Javascript object>"
      ]
     },
     "metadata": {},
     "output_type": "display_data"
    }
   ],
   "source": [
    "%%javascript\n",
    "require(['d3'], function(d3){\n",
    "  $('#chart2').remove();\n",
    "  element.append(\"<div id='chart2'></div>\");\n",
    "  $('#chart2').width(\"960px\");\n",
    "  $('#chart2').height(\"1200px\");\n",
    "  createBarChart('#chart2',\n",
    "                 window.positionCountData,\n",
    "                 '# Of Positions',\n",
    "                 'NYC City Jobs - Open Positions by Department',\n",
    "                 \",\",\n",
    "                 d3)\n",
    "});"
   ]
  },
  {
   "cell_type": "markdown",
   "metadata": {},
   "source": [
    "## Difficulty to Fill\n",
    "\n",
    "We are able to approximate the difficulty to fill a position by how long it is left unfilled. While some of the reliability issues of the dataset mean that we are not able to trust that simply being in this datset means that a job is still open (see Data Concerns section below) we can use the Posting Updated column as a more reliable approximation.  The top 25 jobs with the longest time between being updated and posted are below.\n",
    "\n",
    "\n",
    "\n",
    "The top position at 1167 days is a full time position paying  around $35,000 for a current Law Student with a job title of [Law Student](https://a127-jobs.nyc.gov/index_new.html?keyword=124287). One positions that jumps out as particularly difficult to fill is [a cook on Riker's Island](https://a127-jobs.nyc.gov/index_new.html?keyword=225597), a position that involves supervising other prisoner cooks.  Other highlights include a few hourly Physician positions that have been open for at least a year.\n",
    "\n",
    "All told, 7 positions have been updated after a year of being open, and a more detailed breakdown of the distribution can be found in the histogram below."
   ]
  },
  {
   "cell_type": "markdown",
   "metadata": {},
   "source": [
    "### *Chart 1: Histogram - Difficulty to Fill of NYC Municipal Jobs*"
   ]
  },
  {
   "cell_type": "code",
   "execution_count": 326,
   "metadata": {
    "collapsed": false
   },
   "outputs": [
    {
     "data": {
      "image/png": "[encoded data removed]",
      "text/plain": [
       "<matplotlib.figure.Figure at 0x11aa05f8>"
      ]
     },
     "metadata": {},
     "output_type": "display_data"
    }
   ],
   "source": [
    "%matplotlib inline\n",
    "import matplotlib\n",
    "import numpy as np\n",
    "matplotlib.style.use('ggplot')\n",
    "time_df['days_int'] = time_df['days_open'].dt.days\n",
    "ax = time_df[time_df['days_int']>0]['days_int'].plot.hist(bins=np.linspace(0,400,50), \n",
    "                                                          color='steelblue', \n",
    "                                                          title='Days Since Initial Posting and Most Recent \\n Job Update (bin=50 days)')\n",
    "ax.set_xlabel('Days')\n",
    "_ = ax # hide text output of chart by assigning it to a variable"
   ]
  },
  {
   "cell_type": "markdown",
   "metadata": {},
   "source": [
    "___\n",
    "### *Table 1: Top 25 Most Difficult to Fill Jobs*"
   ]
  },
  {
   "cell_type": "code",
   "execution_count": 284,
   "metadata": {
    "collapsed": false,
    "scrolled": false
   },
   "outputs": [
    {
     "data": {
      "text/html": [
       "<div>\n",
       "<table border=\"1\" class=\"dataframe\">\n",
       "  <thead>\n",
       "    <tr style=\"text-align: right;\">\n",
       "      <th></th>\n",
       "      <th>Job ID</th>\n",
       "      <th>Agency</th>\n",
       "      <th># Of Positions</th>\n",
       "      <th>Business Title</th>\n",
       "      <th>Salary Frequency</th>\n",
       "      <th>salary_midpoint</th>\n",
       "      <th>Posting Date</th>\n",
       "      <th>Posting Updated</th>\n",
       "      <th>Process Date</th>\n",
       "      <th>days_open</th>\n",
       "    </tr>\n",
       "  </thead>\n",
       "  <tbody>\n",
       "    <tr>\n",
       "      <th>1</th>\n",
       "      <td>124287</td>\n",
       "      <td>LAW DEPARTMENT</td>\n",
       "      <td>1</td>\n",
       "      <td>LAW STUDENT</td>\n",
       "      <td>Annual</td>\n",
       "      <td>35314.0</td>\n",
       "      <td>2013-08-01</td>\n",
       "      <td>2016-10-11</td>\n",
       "      <td>03/14/2017 00:00:00</td>\n",
       "      <td>1167 days</td>\n",
       "    </tr>\n",
       "    <tr>\n",
       "      <th>2</th>\n",
       "      <td>156256</td>\n",
       "      <td>DEPT OF ENVIRONMENT PROTECTION</td>\n",
       "      <td>1</td>\n",
       "      <td>Fleet Services Specialist</td>\n",
       "      <td>Annual</td>\n",
       "      <td>46028.5</td>\n",
       "      <td>2014-07-21</td>\n",
       "      <td>2017-03-01</td>\n",
       "      <td>03/14/2017 00:00:00</td>\n",
       "      <td>954 days</td>\n",
       "    </tr>\n",
       "    <tr>\n",
       "      <th>3</th>\n",
       "      <td>219180</td>\n",
       "      <td>DEPARTMENT OF FINANCE</td>\n",
       "      <td>1</td>\n",
       "      <td>College Aide</td>\n",
       "      <td>Hourly</td>\n",
       "      <td>12.0</td>\n",
       "      <td>2015-10-19</td>\n",
       "      <td>2017-02-16</td>\n",
       "      <td>03/14/2017 00:00:00</td>\n",
       "      <td>486 days</td>\n",
       "    </tr>\n",
       "    <tr>\n",
       "      <th>4</th>\n",
       "      <td>222840</td>\n",
       "      <td>DEPARTMENT OF TRANSPORTATION</td>\n",
       "      <td>3</td>\n",
       "      <td>Naval Architect</td>\n",
       "      <td>Annual</td>\n",
       "      <td>99521.0</td>\n",
       "      <td>2015-11-25</td>\n",
       "      <td>2017-02-08</td>\n",
       "      <td>03/14/2017 00:00:00</td>\n",
       "      <td>441 days</td>\n",
       "    </tr>\n",
       "    <tr>\n",
       "      <th>5</th>\n",
       "      <td>227001</td>\n",
       "      <td>DEPT OF HEALTH/MENTAL HYGIENE</td>\n",
       "      <td>2</td>\n",
       "      <td>Supervising Physician, Family and Child Health/SH Medical</td>\n",
       "      <td>Hourly</td>\n",
       "      <td>73.5</td>\n",
       "      <td>2015-12-31</td>\n",
       "      <td>2017-02-02</td>\n",
       "      <td>03/14/2017 00:00:00</td>\n",
       "      <td>399 days</td>\n",
       "    </tr>\n",
       "    <tr>\n",
       "      <th>6</th>\n",
       "      <td>225597</td>\n",
       "      <td>DEPARTMENT OF CORRECTION</td>\n",
       "      <td>26</td>\n",
       "      <td>Cook</td>\n",
       "      <td>Annual</td>\n",
       "      <td>41428.0</td>\n",
       "      <td>2015-12-11</td>\n",
       "      <td>2016-12-27</td>\n",
       "      <td>03/14/2017 00:00:00</td>\n",
       "      <td>382 days</td>\n",
       "    </tr>\n",
       "    <tr>\n",
       "      <th>7</th>\n",
       "      <td>195272</td>\n",
       "      <td>DEPT OF HEALTH/MENTAL HYGIENE</td>\n",
       "      <td>1</td>\n",
       "      <td>Supervising MD, Bureau of School Health</td>\n",
       "      <td>Hourly</td>\n",
       "      <td>68.5</td>\n",
       "      <td>2015-05-22</td>\n",
       "      <td>2016-06-03</td>\n",
       "      <td>03/14/2017 00:00:00</td>\n",
       "      <td>378 days</td>\n",
       "    </tr>\n",
       "    <tr>\n",
       "      <th>8</th>\n",
       "      <td>172546</td>\n",
       "      <td>DEPT OF HEALTH/MENTAL HYGIENE</td>\n",
       "      <td>12</td>\n",
       "      <td>City Research Scientist, Bureau of Childcare</td>\n",
       "      <td>Annual</td>\n",
       "      <td>62493.0</td>\n",
       "      <td>2014-10-23</td>\n",
       "      <td>2015-10-22</td>\n",
       "      <td>03/14/2017 00:00:00</td>\n",
       "      <td>364 days</td>\n",
       "    </tr>\n",
       "    <tr>\n",
       "      <th>9</th>\n",
       "      <td>191646</td>\n",
       "      <td>DEPT OF PARKS &amp; RECREATION</td>\n",
       "      <td>16</td>\n",
       "      <td>Forester</td>\n",
       "      <td>Annual</td>\n",
       "      <td>51230.0</td>\n",
       "      <td>2015-04-24</td>\n",
       "      <td>2016-04-11</td>\n",
       "      <td>03/14/2017 00:00:00</td>\n",
       "      <td>353 days</td>\n",
       "    </tr>\n",
       "    <tr>\n",
       "      <th>10</th>\n",
       "      <td>236389</td>\n",
       "      <td>HOUSING PRESERVATION &amp; DVLPMNT</td>\n",
       "      <td>1</td>\n",
       "      <td>LL44 Transparency Manager</td>\n",
       "      <td>Annual</td>\n",
       "      <td>70000.0</td>\n",
       "      <td>2016-03-28</td>\n",
       "      <td>2017-03-09</td>\n",
       "      <td>03/14/2017 00:00:00</td>\n",
       "      <td>346 days</td>\n",
       "    </tr>\n",
       "    <tr>\n",
       "      <th>11</th>\n",
       "      <td>219633</td>\n",
       "      <td>DEPT OF HEALTH/MENTAL HYGIENE</td>\n",
       "      <td>8</td>\n",
       "      <td>Criminalist II - Forensic Biology</td>\n",
       "      <td>Annual</td>\n",
       "      <td>59589.0</td>\n",
       "      <td>2015-10-20</td>\n",
       "      <td>2016-09-23</td>\n",
       "      <td>03/14/2017 00:00:00</td>\n",
       "      <td>339 days</td>\n",
       "    </tr>\n",
       "    <tr>\n",
       "      <th>12</th>\n",
       "      <td>223426</td>\n",
       "      <td>DEPT OF PARKS &amp; RECREATION</td>\n",
       "      <td>3</td>\n",
       "      <td>Architect</td>\n",
       "      <td>Annual</td>\n",
       "      <td>87074.0</td>\n",
       "      <td>2016-02-19</td>\n",
       "      <td>2017-01-19</td>\n",
       "      <td>03/14/2017 00:00:00</td>\n",
       "      <td>335 days</td>\n",
       "    </tr>\n",
       "    <tr>\n",
       "      <th>13</th>\n",
       "      <td>228801</td>\n",
       "      <td>DEPT OF HEALTH/MENTAL HYGIENE</td>\n",
       "      <td>1</td>\n",
       "      <td>Physician in Charge, Bureau of Sexually Transmitted Disease Control</td>\n",
       "      <td>Annual</td>\n",
       "      <td>158614.5</td>\n",
       "      <td>2016-01-15</td>\n",
       "      <td>2016-12-01</td>\n",
       "      <td>03/14/2017 00:00:00</td>\n",
       "      <td>321 days</td>\n",
       "    </tr>\n",
       "    <tr>\n",
       "      <th>14</th>\n",
       "      <td>228902</td>\n",
       "      <td>DEPT OF HEALTH/MENTAL HYGIENE</td>\n",
       "      <td>8</td>\n",
       "      <td>Adherence Specialist/Nurse Practitioner, Bureau of Sexually Transmitted Disease Control</td>\n",
       "      <td>Annual</td>\n",
       "      <td>82764.0</td>\n",
       "      <td>2016-01-19</td>\n",
       "      <td>2016-12-05</td>\n",
       "      <td>03/14/2017 00:00:00</td>\n",
       "      <td>321 days</td>\n",
       "    </tr>\n",
       "    <tr>\n",
       "      <th>15</th>\n",
       "      <td>237878</td>\n",
       "      <td>BOARD OF CORRECTION</td>\n",
       "      <td>1</td>\n",
       "      <td>INFORMATION TECHNOLOGY ASSOCIATE</td>\n",
       "      <td>Annual</td>\n",
       "      <td>49151.5</td>\n",
       "      <td>2016-04-06</td>\n",
       "      <td>2017-02-21</td>\n",
       "      <td>03/14/2017 00:00:00</td>\n",
       "      <td>321 days</td>\n",
       "    </tr>\n",
       "    <tr>\n",
       "      <th>16</th>\n",
       "      <td>228889</td>\n",
       "      <td>DEPT OF HEALTH/MENTAL HYGIENE</td>\n",
       "      <td>4</td>\n",
       "      <td>Navigation Supervisor, Bureau of Sexually Transmitted Disease Control</td>\n",
       "      <td>Annual</td>\n",
       "      <td>52567.5</td>\n",
       "      <td>2016-01-19</td>\n",
       "      <td>2016-12-05</td>\n",
       "      <td>03/14/2017 00:00:00</td>\n",
       "      <td>321 days</td>\n",
       "    </tr>\n",
       "    <tr>\n",
       "      <th>17</th>\n",
       "      <td>237059</td>\n",
       "      <td>DEPT OF ENVIRONMENT PROTECTION</td>\n",
       "      <td>1</td>\n",
       "      <td>Transportation Policy Advisor</td>\n",
       "      <td>Annual</td>\n",
       "      <td>57947.5</td>\n",
       "      <td>2016-04-11</td>\n",
       "      <td>2017-02-24</td>\n",
       "      <td>03/14/2017 00:00:00</td>\n",
       "      <td>319 days</td>\n",
       "    </tr>\n",
       "    <tr>\n",
       "      <th>18</th>\n",
       "      <td>238520</td>\n",
       "      <td>BOARD OF CORRECTION</td>\n",
       "      <td>4</td>\n",
       "      <td>Standards Specialist ( Monitor)</td>\n",
       "      <td>Annual</td>\n",
       "      <td>59558.5</td>\n",
       "      <td>2016-04-12</td>\n",
       "      <td>2017-02-21</td>\n",
       "      <td>03/14/2017 00:00:00</td>\n",
       "      <td>315 days</td>\n",
       "    </tr>\n",
       "    <tr>\n",
       "      <th>19</th>\n",
       "      <td>237245</td>\n",
       "      <td>ADMIN FOR CHILDREN'S SVCS</td>\n",
       "      <td>20</td>\n",
       "      <td>Trauma-Informed Early Care Education Social Worker</td>\n",
       "      <td>Annual</td>\n",
       "      <td>62781.5</td>\n",
       "      <td>2016-04-06</td>\n",
       "      <td>2017-02-11</td>\n",
       "      <td>03/14/2017 00:00:00</td>\n",
       "      <td>311 days</td>\n",
       "    </tr>\n",
       "    <tr>\n",
       "      <th>20</th>\n",
       "      <td>225534</td>\n",
       "      <td>NYC EMPLOYEES RETIREMENT SYS</td>\n",
       "      <td>11</td>\n",
       "      <td>Office Machine Aide, Level 1</td>\n",
       "      <td>Hourly</td>\n",
       "      <td>17.5</td>\n",
       "      <td>2015-12-11</td>\n",
       "      <td>2016-10-13</td>\n",
       "      <td>03/14/2017 00:00:00</td>\n",
       "      <td>307 days</td>\n",
       "    </tr>\n",
       "    <tr>\n",
       "      <th>21</th>\n",
       "      <td>232984</td>\n",
       "      <td>DEPT OF ENVIRONMENT PROTECTION</td>\n",
       "      <td>1</td>\n",
       "      <td>Computer Specialist (Software)</td>\n",
       "      <td>Annual</td>\n",
       "      <td>88281.5</td>\n",
       "      <td>2016-02-26</td>\n",
       "      <td>2016-12-27</td>\n",
       "      <td>03/14/2017 00:00:00</td>\n",
       "      <td>305 days</td>\n",
       "    </tr>\n",
       "    <tr>\n",
       "      <th>22</th>\n",
       "      <td>183598</td>\n",
       "      <td>DEPT OF HEALTH/MENTAL HYGIENE</td>\n",
       "      <td>1</td>\n",
       "      <td>Supervising Exterminator, Bureau of Veterinary and Pest Control Services</td>\n",
       "      <td>Annual</td>\n",
       "      <td>39806.0</td>\n",
       "      <td>2015-02-10</td>\n",
       "      <td>2015-12-03</td>\n",
       "      <td>03/14/2017 00:00:00</td>\n",
       "      <td>296 days</td>\n",
       "    </tr>\n",
       "    <tr>\n",
       "      <th>23</th>\n",
       "      <td>228947</td>\n",
       "      <td>DEPARTMENT OF TRANSPORTATION</td>\n",
       "      <td>1</td>\n",
       "      <td>Auditor</td>\n",
       "      <td>Annual</td>\n",
       "      <td>73639.0</td>\n",
       "      <td>2016-01-22</td>\n",
       "      <td>2016-10-25</td>\n",
       "      <td>03/14/2017 00:00:00</td>\n",
       "      <td>277 days</td>\n",
       "    </tr>\n",
       "    <tr>\n",
       "      <th>24</th>\n",
       "      <td>242554</td>\n",
       "      <td>DEPT OF HEALTH/MENTAL HYGIENE</td>\n",
       "      <td>3</td>\n",
       "      <td>Registrar, Bureau of Child Care</td>\n",
       "      <td>Annual</td>\n",
       "      <td>46149.5</td>\n",
       "      <td>2016-06-06</td>\n",
       "      <td>2017-03-01</td>\n",
       "      <td>03/14/2017 00:00:00</td>\n",
       "      <td>268 days</td>\n",
       "    </tr>\n",
       "    <tr>\n",
       "      <th>25</th>\n",
       "      <td>242646</td>\n",
       "      <td>DEPARTMENT OF INVESTIGATION</td>\n",
       "      <td>1</td>\n",
       "      <td>Investigative Auditor</td>\n",
       "      <td>Annual</td>\n",
       "      <td>54513.5</td>\n",
       "      <td>2016-06-08</td>\n",
       "      <td>2017-03-03</td>\n",
       "      <td>03/14/2017 00:00:00</td>\n",
       "      <td>268 days</td>\n",
       "    </tr>\n",
       "  </tbody>\n",
       "</table>\n",
       "</div>"
      ],
      "text/plain": [
       "    Job ID                          Agency  # Of Positions                                                                           Business Title Salary Frequency  salary_midpoint Posting Date Posting Updated  \\\n",
       "1   124287                  LAW DEPARTMENT               1                                                                              LAW STUDENT           Annual          35314.0   2013-08-01      2016-10-11   \n",
       "2   156256  DEPT OF ENVIRONMENT PROTECTION               1                                                                Fleet Services Specialist           Annual          46028.5   2014-07-21      2017-03-01   \n",
       "3   219180           DEPARTMENT OF FINANCE               1                                                                             College Aide           Hourly             12.0   2015-10-19      2017-02-16   \n",
       "4   222840    DEPARTMENT OF TRANSPORTATION               3                                                                          Naval Architect           Annual          99521.0   2015-11-25      2017-02-08   \n",
       "5   227001   DEPT OF HEALTH/MENTAL HYGIENE               2                                Supervising Physician, Family and Child Health/SH Medical           Hourly             73.5   2015-12-31      2017-02-02   \n",
       "6   225597        DEPARTMENT OF CORRECTION              26                                                                                     Cook           Annual          41428.0   2015-12-11      2016-12-27   \n",
       "7   195272   DEPT OF HEALTH/MENTAL HYGIENE               1                                                  Supervising MD, Bureau of School Health           Hourly             68.5   2015-05-22      2016-06-03   \n",
       "8   172546   DEPT OF HEALTH/MENTAL HYGIENE              12                                             City Research Scientist, Bureau of Childcare           Annual          62493.0   2014-10-23      2015-10-22   \n",
       "9   191646      DEPT OF PARKS & RECREATION              16                                                                                 Forester           Annual          51230.0   2015-04-24      2016-04-11   \n",
       "10  236389  HOUSING PRESERVATION & DVLPMNT               1                                                                LL44 Transparency Manager           Annual          70000.0   2016-03-28      2017-03-09   \n",
       "11  219633   DEPT OF HEALTH/MENTAL HYGIENE               8                                                        Criminalist II - Forensic Biology           Annual          59589.0   2015-10-20      2016-09-23   \n",
       "12  223426      DEPT OF PARKS & RECREATION               3                                                                                Architect           Annual          87074.0   2016-02-19      2017-01-19   \n",
       "13  228801   DEPT OF HEALTH/MENTAL HYGIENE               1                      Physician in Charge, Bureau of Sexually Transmitted Disease Control           Annual         158614.5   2016-01-15      2016-12-01   \n",
       "14  228902   DEPT OF HEALTH/MENTAL HYGIENE               8  Adherence Specialist/Nurse Practitioner, Bureau of Sexually Transmitted Disease Control           Annual          82764.0   2016-01-19      2016-12-05   \n",
       "15  237878             BOARD OF CORRECTION               1                                                         INFORMATION TECHNOLOGY ASSOCIATE           Annual          49151.5   2016-04-06      2017-02-21   \n",
       "16  228889   DEPT OF HEALTH/MENTAL HYGIENE               4                    Navigation Supervisor, Bureau of Sexually Transmitted Disease Control           Annual          52567.5   2016-01-19      2016-12-05   \n",
       "17  237059  DEPT OF ENVIRONMENT PROTECTION               1                                                            Transportation Policy Advisor           Annual          57947.5   2016-04-11      2017-02-24   \n",
       "18  238520             BOARD OF CORRECTION               4                                                          Standards Specialist ( Monitor)           Annual          59558.5   2016-04-12      2017-02-21   \n",
       "19  237245       ADMIN FOR CHILDREN'S SVCS              20                                       Trauma-Informed Early Care Education Social Worker           Annual          62781.5   2016-04-06      2017-02-11   \n",
       "20  225534    NYC EMPLOYEES RETIREMENT SYS              11                                                             Office Machine Aide, Level 1           Hourly             17.5   2015-12-11      2016-10-13   \n",
       "21  232984  DEPT OF ENVIRONMENT PROTECTION               1                                                           Computer Specialist (Software)           Annual          88281.5   2016-02-26      2016-12-27   \n",
       "22  183598   DEPT OF HEALTH/MENTAL HYGIENE               1                 Supervising Exterminator, Bureau of Veterinary and Pest Control Services           Annual          39806.0   2015-02-10      2015-12-03   \n",
       "23  228947    DEPARTMENT OF TRANSPORTATION               1                                                                                  Auditor           Annual          73639.0   2016-01-22      2016-10-25   \n",
       "24  242554   DEPT OF HEALTH/MENTAL HYGIENE               3                                                          Registrar, Bureau of Child Care           Annual          46149.5   2016-06-06      2017-03-01   \n",
       "25  242646     DEPARTMENT OF INVESTIGATION               1                                                                    Investigative Auditor           Annual          54513.5   2016-06-08      2017-03-03   \n",
       "\n",
       "           Process Date  days_open  \n",
       "1   03/14/2017 00:00:00  1167 days  \n",
       "2   03/14/2017 00:00:00   954 days  \n",
       "3   03/14/2017 00:00:00   486 days  \n",
       "4   03/14/2017 00:00:00   441 days  \n",
       "5   03/14/2017 00:00:00   399 days  \n",
       "6   03/14/2017 00:00:00   382 days  \n",
       "7   03/14/2017 00:00:00   378 days  \n",
       "8   03/14/2017 00:00:00   364 days  \n",
       "9   03/14/2017 00:00:00   353 days  \n",
       "10  03/14/2017 00:00:00   346 days  \n",
       "11  03/14/2017 00:00:00   339 days  \n",
       "12  03/14/2017 00:00:00   335 days  \n",
       "13  03/14/2017 00:00:00   321 days  \n",
       "14  03/14/2017 00:00:00   321 days  \n",
       "15  03/14/2017 00:00:00   321 days  \n",
       "16  03/14/2017 00:00:00   321 days  \n",
       "17  03/14/2017 00:00:00   319 days  \n",
       "18  03/14/2017 00:00:00   315 days  \n",
       "19  03/14/2017 00:00:00   311 days  \n",
       "20  03/14/2017 00:00:00   307 days  \n",
       "21  03/14/2017 00:00:00   305 days  \n",
       "22  03/14/2017 00:00:00   296 days  \n",
       "23  03/14/2017 00:00:00   277 days  \n",
       "24  03/14/2017 00:00:00   268 days  \n",
       "25  03/14/2017 00:00:00   268 days  "
      ]
     },
     "execution_count": 284,
     "metadata": {},
     "output_type": "execute_result"
    }
   ],
   "source": [
    "time_df = df[['Job ID',\n",
    "              'Agency',\n",
    "              '# Of Positions', \n",
    "              'Business Title', \n",
    "              'Salary Frequency',\n",
    "              'salary_midpoint', \n",
    "              'Posting Date',\n",
    "              'Posting Updated',\n",
    "              'Process Date']]\n",
    "time_df['Posting Date'] = pd.to_datetime(time_df['Posting Date'])\n",
    "time_df['Posting Updated'] = pd.to_datetime(time_df['Posting Updated'])\n",
    "time_df['days_open'] = time_df['Posting Updated'] - time_df['Posting Date']\n",
    "#show dataframe of top 25 most difficult to fill positions (using index as rank)\n",
    "time_df_top_25 = time_df.sort_values('days_open', ascending=False).head(25).set_index([[x for x in xrange(1,26)]])\n",
    "time_df_top_25"
   ]
  },
  {
   "cell_type": "markdown",
   "metadata": {},
   "source": [
    "### Other Dataset Highlights\n",
    "- NYC has 5643 open jobs listed\n",
    "- 92.45% (5217) of jobs are externally posted."
   ]
  },
  {
   "cell_type": "markdown",
   "metadata": {},
   "source": [
    "### Method\n",
    "\n",
    "- The midpoint of the salary range for each position is used\n",
    "- Duplicate rows are removed - only first occurence of each Job ID is shown. (This removes duplicates when a job is posted both internally and externally)\n",
    "- All daily and hourly positions are annualized:\n",
    "  - Hourly Positions are estimated at 40 hours a week for 50 weeks\n",
    "  - Daily Salaries are estimated at 5 days a week for 50 weeks\n",
    "- Time between most recent job update and original posting is used as a proxy for difficulty to fill."
   ]
  },
  {
   "cell_type": "markdown",
   "metadata": {},
   "source": [
    "### Data Concerns\n",
    "\n",
    "This dataset does not always match the career information on the agency pages raising potential concerns about it's accuracy.  Examples include:\n",
    "- The Office of Management & Budget only includes one job posted in 2015, however there are dozens of more recent jobs on the [agency's career page](http://www1.nyc.gov/site/omb/careers/careers.page)\n",
    "- The Department of Environmental Protection includes jobs posted all the way back to 2012.  The oldest posting on the [agency's career page](http://www.nyc.gov/html/dep/html/job_opportunities/index_wide.shtml) at the time of writing was in November 2016."
   ]
  },
  {
   "cell_type": "code",
   "execution_count": 321,
   "metadata": {
    "collapsed": false,
    "scrolled": true
   },
   "outputs": [
    {
     "name": "stdout",
     "output_type": "stream",
     "text": [
      "All tests pass\n"
     ]
    }
   ],
   "source": [
    "#Tests\n",
    "assert source_df['Process Date'][0]=='03/14/2017 00:00:00', 'The file posted on 3/14 is not being used'\n",
    "assert True not in df.duplicated('Job ID'), 'The datset contains duplicate Job IDs'\n",
    "assert len(df['has_external_posting'].unique()) == 2, 'There are more than 2 values for Boolean column has_external_posting'\n",
    "assert len(df) <= len(source_df), 'filtered dataframe is larger than source'\n",
    "assert df['annualized_salary'].isnull().values.any() == False, 'annualized salary has blank values'\n",
    "assert df[df['Posting Updated']==''].values.any() == False, 'Posting Updated column has blank values'\n",
    "\n",
    "print 'All tests pass'"
   ]
  }
 ],
 "metadata": {
  "kernelspec": {
   "display_name": "Python 2",
   "language": "python",
   "name": "python2"
  },
  "language_info": {
   "codemirror_mode": {
    "name": "ipython",
    "version": 2
   },
   "file_extension": ".py",
   "mimetype": "text/x-python",
   "name": "python",
   "nbconvert_exporter": "python",
   "pygments_lexer": "ipython2",
   "version": "2.7.11"
  }
 },
 "nbformat": 4,
 "nbformat_minor": 0
}
