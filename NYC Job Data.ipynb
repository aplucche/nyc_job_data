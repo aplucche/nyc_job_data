{
 "cells": [
  {
   "cell_type": "code",
   "execution_count": 90,
   "metadata": {
    "collapsed": false,
    "scrolled": true
   },
   "outputs": [
    {
     "data": {
      "text/html": [
       "\n",
       "<link href='https://fonts.googleapis.com/css?family=Roboto' rel='stylesheet' type='text/css'>\n",
       "<style>\n",
       "div.text_cell_render {\n",
       "    font-family: 'Roboto' sans-serif;\n",
       "    text-align: justify;\n",
       "    padding-left: 100px;\n",
       "    padding-right:100px;\n",
       "    line-height: 130%;\n",
       "    font-size: 115%;\n",
       "    width: inherit;\n",
       "}\n",
       "\n",
       ".dataframe * {\n",
       "    border: 1px solid lightgray !important;\n",
       "}\n",
       "div.output_prompt {display: none;}\n",
       "div.prompt {display: none;}\n",
       "</style>\n",
       "\n",
       "<script>\n",
       "var codeVisible = true; \n",
       "function code_toggle() {\n",
       " if (codeVisible){\n",
       "   $('div.input').hide();\n",
       " } else {\n",
       "   $('div.input').show();\n",
       " }\n",
       " codeVisible = !codeVisible\n",
       "} \n",
       "$( document ).ready(code_toggle);\n",
       "</script>\n",
       "<form action=\"javascript:code_toggle()\"><input type=\"submit\" value=\"Click here to toggle code visibility\"></form>\n"
      ],
      "text/plain": [
       "<IPython.core.display.HTML object>"
      ]
     },
     "execution_count": 90,
     "metadata": {},
     "output_type": "execute_result"
    }
   ],
   "source": [
    "from IPython.display import HTML\n",
    "HTML(\"\"\"\n",
    "<link href='https://fonts.googleapis.com/css?family=Roboto' rel='stylesheet' type='text/css'>\n",
    "<style>\n",
    "div.text_cell_render {\n",
    "    font-family: 'Roboto' sans-serif;\n",
    "    text-align: justify;\n",
    "    padding-left: 100px;\n",
    "    padding-right:100px;\n",
    "    line-height: 130%;\n",
    "    font-size: 115%;\n",
    "    width: inherit;\n",
    "}\n",
    "\n",
    ".dataframe * {\n",
    "    border: 1px solid lightgray !important;\n",
    "}\n",
    "div.output_prompt {display: none;}\n",
    "div.prompt {display: none;}\n",
    "</style>\n",
    "\n",
    "<script>\n",
    "var codeVisible = true; \n",
    "function code_toggle() {\n",
    " if (codeVisible){\n",
    "   $('div.input').hide();\n",
    " } else {\n",
    "   $('div.input').show();\n",
    " }\n",
    " codeVisible = !codeVisible\n",
    "} \n",
    "$( document ).ready(code_toggle);\n",
    "</script>\n",
    "<form action=\"javascript:code_toggle()\"><input type=\"submit\" value=\"Click here to toggle code visibility\"></form>\n",
    "\"\"\")"
   ]
  },
  {
   "cell_type": "code",
   "execution_count": 11,
   "metadata": {
    "collapsed": false
   },
   "outputs": [],
   "source": [
    "import pandas as pd\n",
    "pd.set_option('display.max_columns', None)\n",
    "pd.options.mode.chained_assignment = None\n",
    "\n",
    "data_url = 'https://data.cityofnewyork.us/api/views/kpav-sd4t/rows.csv?accessType=DOWNLOAD'\n",
    "source_df = pd.read_csv(data_url)\n",
    "source_df = source_df.fillna('')\n",
    "df = source_df.drop_duplicates('Job ID')"
   ]
  },
  {
   "cell_type": "markdown",
   "metadata": {},
   "source": [
    "### Job Data for NYC's municipal agencies\n",
    "\n",
    "Through [NYC Open Data](http://opendata.cityofnewyork.us/) the city provides data on all open jobs. It is a rich dataset including information like salary ranges, job requirements, and posting dates.  We use this data to compare different city agencies, although differences (listed below) between [this dataset](https://data.cityofnewyork.us/City-Government/NYC-Jobs/kpav-sd4t) and the career portals of the agencies themselves suggest it is not completely up to date."
   ]
  },
  {
   "cell_type": "code",
   "execution_count": 74,
   "metadata": {
    "collapsed": false,
    "scrolled": true
   },
   "outputs": [
    {
     "data": {
      "text/html": [
       "<div>\n",
       "<table border=\"1\" class=\"dataframe\">\n",
       "  <thead>\n",
       "    <tr style=\"text-align: right;\">\n",
       "      <th></th>\n",
       "      <th>Agency</th>\n",
       "      <th># Of Positions</th>\n",
       "      <th>Business Title</th>\n",
       "      <th>Salary Range From</th>\n",
       "      <th>Salary Range To</th>\n",
       "    </tr>\n",
       "  </thead>\n",
       "  <tbody>\n",
       "    <tr>\n",
       "      <th>259</th>\n",
       "      <td>OFFICE OF MANAGEMENT &amp; BUDGET</td>\n",
       "      <td>1</td>\n",
       "      <td>DEPUTY CHIEF OF STAFF</td>\n",
       "      <td>106475</td>\n",
       "      <td>106475</td>\n",
       "    </tr>\n",
       "    <tr>\n",
       "      <th>713</th>\n",
       "      <td>DEPARTMENT OF CITY PLANNING</td>\n",
       "      <td>1</td>\n",
       "      <td>Business Improvement Analyst</td>\n",
       "      <td>63817</td>\n",
       "      <td>75000</td>\n",
       "    </tr>\n",
       "    <tr>\n",
       "      <th>1368</th>\n",
       "      <td>DEPARTMENT OF CITY PLANNING</td>\n",
       "      <td>1</td>\n",
       "      <td>Senior Facilities Planner - Planning Coordination</td>\n",
       "      <td>65000</td>\n",
       "      <td>78000</td>\n",
       "    </tr>\n",
       "    <tr>\n",
       "      <th>1483</th>\n",
       "      <td>DEPARTMENT OF CITY PLANNING</td>\n",
       "      <td>1</td>\n",
       "      <td>Planning Analyst - Planning Coordination</td>\n",
       "      <td>55000</td>\n",
       "      <td>65000</td>\n",
       "    </tr>\n",
       "    <tr>\n",
       "      <th>1644</th>\n",
       "      <td>FINANCIAL INFO SVCS AGENCY</td>\n",
       "      <td>1</td>\n",
       "      <td>QTP Automation Script Developer</td>\n",
       "      <td>75000</td>\n",
       "      <td>109000</td>\n",
       "    </tr>\n",
       "    <tr>\n",
       "      <th>1709</th>\n",
       "      <td>FINANCIAL INFO SVCS AGENCY</td>\n",
       "      <td>1</td>\n",
       "      <td>WINDOWS ADMINISTRATOR</td>\n",
       "      <td>100000</td>\n",
       "      <td>120000</td>\n",
       "    </tr>\n",
       "    <tr>\n",
       "      <th>2073</th>\n",
       "      <td>FINANCIAL INFO SVCS AGENCY</td>\n",
       "      <td>2</td>\n",
       "      <td>DATA CENTER - COMPUTER ASSOCIATE</td>\n",
       "      <td>47692</td>\n",
       "      <td>69493</td>\n",
       "    </tr>\n",
       "    <tr>\n",
       "      <th>2436</th>\n",
       "      <td>FINANCIAL INFO SVCS AGENCY</td>\n",
       "      <td>1</td>\n",
       "      <td>ASSISTANT EXECUTIVE DIRECTOR (AED) of AGENCY OPERATIONS</td>\n",
       "      <td>89283</td>\n",
       "      <td>180000</td>\n",
       "    </tr>\n",
       "    <tr>\n",
       "      <th>2448</th>\n",
       "      <td>DEPARTMENT OF CITY PLANNING</td>\n",
       "      <td>1</td>\n",
       "      <td>Deputy Executive Director - Land Use, Environmental Review &amp; Technical Review</td>\n",
       "      <td>140000</td>\n",
       "      <td>160000</td>\n",
       "    </tr>\n",
       "    <tr>\n",
       "      <th>2830</th>\n",
       "      <td>FINANCIAL INFO SVCS AGENCY</td>\n",
       "      <td>1</td>\n",
       "      <td>TECH SUPPORT SCHEDULER</td>\n",
       "      <td>57223</td>\n",
       "      <td>80000</td>\n",
       "    </tr>\n",
       "    <tr>\n",
       "      <th>3264</th>\n",
       "      <td>FINANCIAL INFO SVCS AGENCY</td>\n",
       "      <td>1</td>\n",
       "      <td>FACT BUSINESS ANALYST</td>\n",
       "      <td>71291</td>\n",
       "      <td>87450</td>\n",
       "    </tr>\n",
       "    <tr>\n",
       "      <th>3429</th>\n",
       "      <td>FINANCIAL INFO SVCS AGENCY</td>\n",
       "      <td>1</td>\n",
       "      <td>PEOPLESOFT DEVELOPER</td>\n",
       "      <td>110000</td>\n",
       "      <td>115000</td>\n",
       "    </tr>\n",
       "    <tr>\n",
       "      <th>3458</th>\n",
       "      <td>DEPARTMENT OF CITY PLANNING</td>\n",
       "      <td>1</td>\n",
       "      <td>Chief Urban Designer</td>\n",
       "      <td>100000</td>\n",
       "      <td>130000</td>\n",
       "    </tr>\n",
       "    <tr>\n",
       "      <th>3528</th>\n",
       "      <td>DEPARTMENT OF CITY PLANNING</td>\n",
       "      <td>1</td>\n",
       "      <td>City Planner - Manhattan Office</td>\n",
       "      <td>51393</td>\n",
       "      <td>60000</td>\n",
       "    </tr>\n",
       "    <tr>\n",
       "      <th>3985</th>\n",
       "      <td>FINANCIAL INFO SVCS AGENCY</td>\n",
       "      <td>1</td>\n",
       "      <td>CONFIGURATION MANAGEMENT TECHNICIAN</td>\n",
       "      <td>61995</td>\n",
       "      <td>85943</td>\n",
       "    </tr>\n",
       "  </tbody>\n",
       "</table>\n",
       "</div>"
      ],
      "text/plain": [
       "                             Agency  # Of Positions                                                                 Business Title  Salary Range From  Salary Range To\n",
       "259   OFFICE OF MANAGEMENT & BUDGET               1                                                          DEPUTY CHIEF OF STAFF             106475           106475\n",
       "713     DEPARTMENT OF CITY PLANNING               1                                                   Business Improvement Analyst              63817            75000\n",
       "1368    DEPARTMENT OF CITY PLANNING               1                              Senior Facilities Planner - Planning Coordination              65000            78000\n",
       "1483    DEPARTMENT OF CITY PLANNING               1                                       Planning Analyst - Planning Coordination              55000            65000\n",
       "1644     FINANCIAL INFO SVCS AGENCY               1                                                QTP Automation Script Developer              75000           109000\n",
       "1709     FINANCIAL INFO SVCS AGENCY               1                                                          WINDOWS ADMINISTRATOR             100000           120000\n",
       "2073     FINANCIAL INFO SVCS AGENCY               2                                               DATA CENTER - COMPUTER ASSOCIATE              47692            69493\n",
       "2436     FINANCIAL INFO SVCS AGENCY               1                        ASSISTANT EXECUTIVE DIRECTOR (AED) of AGENCY OPERATIONS              89283           180000\n",
       "2448    DEPARTMENT OF CITY PLANNING               1  Deputy Executive Director - Land Use, Environmental Review & Technical Review             140000           160000\n",
       "2830     FINANCIAL INFO SVCS AGENCY               1                                                         TECH SUPPORT SCHEDULER              57223            80000\n",
       "3264     FINANCIAL INFO SVCS AGENCY               1                                                          FACT BUSINESS ANALYST              71291            87450\n",
       "3429     FINANCIAL INFO SVCS AGENCY               1                                                           PEOPLESOFT DEVELOPER             110000           115000\n",
       "3458    DEPARTMENT OF CITY PLANNING               1                                                           Chief Urban Designer             100000           130000\n",
       "3528    DEPARTMENT OF CITY PLANNING               1                                                City Planner - Manhattan Office              51393            60000\n",
       "3985     FINANCIAL INFO SVCS AGENCY               1                                            CONFIGURATION MANAGEMENT TECHNICIAN              61995            85943"
      ]
     },
     "execution_count": 74,
     "metadata": {},
     "output_type": "execute_result"
    }
   ],
   "source": [
    "included_agencies = ['OFFICE OF MANAGEMENT & BUDGET', 'FINANCIAL INFO SVCS AGENCY', 'DEPARTMENT OF CITY PLANNING']\n",
    "included_columns = ['Agency','# Of Positions','Business Title', 'Salary Range From','Salary Range To']\n",
    "\n",
    "pd.options.display.max_colwidth = 220\n",
    "df[df['Agency'].isin(included_agencies)][included_columns]\n",
    "\n",
    "\n",
    "#jobid = 277860\n",
    "\n",
    "#source_df[source_df['Job ID']==jobid].head(1121)\n",
    "#df[df['Agency']=='DEPT OF ENVIRONMENT PROTECTION'].head(1121)['Posting Date']"
   ]
  },
  {
   "cell_type": "code",
   "execution_count": 34,
   "metadata": {
    "collapsed": false
   },
   "outputs": [],
   "source": [
    "external_posted_job_ids = source_df[source_df['Posting Type'] == 'External']['Job ID'].unique() # get unique IDs from full dataframe\n",
    "df['has_external_posting'] = [True if job_id in external_posted_job_ids else False for job_id in df['Job ID']]\n",
    "df.has_external_posting.value_counts()\n",
    "\n",
    "salary = df[['Agency','# Of Positions','Salary Range From', 'Salary Range To','Salary Frequency', 'has_external_posting']]\n",
    "salary['salary_midpoint'] = salary['Salary Range From'] + (salary['Salary Range To'] - salary['Salary Range From'])/2\n",
    "\n",
    "# Annualize Hourly and Daily rates (see http://stackoverflow.com/questions/12307099/modifying-a-subset-of-rows-in-a-pandas-dataframe)\n",
    "salary.ix[df['Salary Frequency'] =='Hourly', 'salary_midpoint'] = salary.ix[df['Salary Frequency'] =='Hourly', 'salary_midpoint'] * 40 * 50\n",
    "salary.ix[df['Salary Frequency'] =='Daily', 'salary_midpoint'] = salary.ix[df['Salary Frequency'] =='Daily', 'salary_midpoint'] * 5 * 50\n",
    "\n",
    "salary['salary_total'] = salary['# Of Positions'] * salary['salary_midpoint']\n",
    "\n",
    "salary_grouped = salary.groupby('Agency').sum()\n",
    "salary[salary['Salary Frequency'] == 'Annual'].head(5)\n",
    "salary_grouped['average_salary'] = salary_grouped['salary_total'] / salary_grouped['# Of Positions']\n",
    "#ordered_salaries = salary_grouped[['# Of Positions', 'average_salary']].sort_values('average_salary', ascending=False)\n",
    "ordered_salaries = salary_grouped[['average_salary']].sort_values('average_salary', ascending=True)\n",
    "ordered_salaries = ordered_salaries.reset_index()\n",
    "\n",
    "ordered_position_counts = salary_grouped[['# Of Positions']].sort_values('# Of Positions', ascending=True)\n",
    "ordered_position_counts = ordered_position_counts.reset_index()"
   ]
  },
  {
   "cell_type": "code",
   "execution_count": 6,
   "metadata": {
    "collapsed": false
   },
   "outputs": [
    {
     "data": {
      "application/javascript": [
       "require.config({\n",
       "    paths: {\n",
       "        d3: '//d3js.org/d3.v4.min'\n",
       "    }\n",
       "});"
      ],
      "text/plain": [
       "<IPython.core.display.Javascript object>"
      ]
     },
     "metadata": {},
     "output_type": "display_data"
    }
   ],
   "source": [
    "%%javascript\n",
    "require.config({\n",
    "    paths: {\n",
    "        d3: '//d3js.org/d3.v4.min'\n",
    "    }\n",
    "});"
   ]
  },
  {
   "cell_type": "code",
   "execution_count": 126,
   "metadata": {
    "collapsed": false
   },
   "outputs": [
    {
     "data": {
      "application/javascript": [
       "window.chartData=[{\"Agency\":\"OFFICE OF COLLECTIVE BARGAININ\",\"average_salary\":19000.0},{\"Agency\":\"DEPT OF PARKS & RECREATION\",\"average_salary\":28917.0586025545},{\"Agency\":\"MANHATTAN COMMUNITY BOARD #10\",\"average_salary\":34774.0},{\"Agency\":\"BUSINESS INTEGRITY COMMISSION\",\"average_salary\":40824.75},{\"Agency\":\"DEPARTMENT OF BUILDINGS\",\"average_salary\":46256.9744525547},{\"Agency\":\"TAX COMMISSION\",\"average_salary\":48813.8333333333},{\"Agency\":\"LAW DEPARTMENT\",\"average_salary\":50555.9426229508},{\"Agency\":\"DEPT OF YOUTH & COMM DEV SRVS\",\"average_salary\":50670.1744186046},{\"Agency\":\"POLICE DEPARTMENT\",\"average_salary\":52771.3603896104},{\"Agency\":\"CULTURAL AFFAIRS\",\"average_salary\":53761.0},{\"Agency\":\"DEPARTMENT OF PROBATION\",\"average_salary\":54368.0555555556},{\"Agency\":\"PRESIDENT BOROUGH OF MANHATTAN\",\"average_salary\":55000.0},{\"Agency\":\"HRA\\/DEPT OF SOCIAL SERVICES\",\"average_salary\":59965.6705426357},{\"Agency\":\"DISTRICT ATTORNEY KINGS COUNTY\",\"average_salary\":60381.9166666667},{\"Agency\":\"HUMAN RIGHTS COMMISSION\",\"average_salary\":60679.0857142857},{\"Agency\":\"DEPARTMENT OF CORRECTION\",\"average_salary\":61653.8722627737},{\"Agency\":\"NYC HOUSING AUTHORITY\",\"average_salary\":62758.7302158273},{\"Agency\":\"ADMIN TRIALS AND HEARINGS\",\"average_salary\":62769.8141025641},{\"Agency\":\"TAXI & LIMOUSINE COMMISSION\",\"average_salary\":62987.7567567568},{\"Agency\":\"OFF OF PAYROLL ADMINISTRATION\",\"average_salary\":63737.6111111111},{\"Agency\":\"DEPARTMENT OF BUSINESS SERV.\",\"average_salary\":65173.1944444444},{\"Agency\":\"OFFICE OF LABOR RELATIONS\",\"average_salary\":65213.0},{\"Agency\":\"CONSUMER AFFAIRS\",\"average_salary\":65329.6956521739},{\"Agency\":\"DEPT. OF HOMELESS SERVICES\",\"average_salary\":65501.8095238095},{\"Agency\":\"DEPARTMENT OF SANITATION\",\"average_salary\":65726.9130434783},{\"Agency\":\"DEPT OF HEALTH\\/MENTAL HYGIENE\",\"average_salary\":65750.5867521367},{\"Agency\":\"NYC EMPLOYEES RETIREMENT SYS\",\"average_salary\":65950.9615384615},{\"Agency\":\"OFFICE OF EMERGENCY MANAGEMENT\",\"average_salary\":66888.8888888889},{\"Agency\":\"DEPARTMENT OF TRANSPORTATION\",\"average_salary\":67450.7299107143},{\"Agency\":\"DEPARTMENT OF INVESTIGATION\",\"average_salary\":67598.890625},{\"Agency\":\"HOUSING PRESERVATION & DVLPMNT\",\"average_salary\":68199.2916666667},{\"Agency\":\"BOARD OF CORRECTION\",\"average_salary\":68338.0714285714},{\"Agency\":\"DEPARTMENT OF FINANCE\",\"average_salary\":68753.7405063291},{\"Agency\":\"DEPT OF DESIGN & CONSTRUCTION\",\"average_salary\":71375.0045454545},{\"Agency\":\"CONFLICTS OF INTEREST BOARD\",\"average_salary\":71858.0},{\"Agency\":\"DEPT OF ENVIRONMENT PROTECTION\",\"average_salary\":72348.5649350649},{\"Agency\":\"DISTRICT ATTORNEY RICHMOND COU\",\"average_salary\":72392.5},{\"Agency\":\"OFFICE OF THE COMPTROLLER\",\"average_salary\":72837.6166666667},{\"Agency\":\"MAYORS OFFICE OF CONTRACT SVCS\",\"average_salary\":74640.0},{\"Agency\":\"ADMIN FOR CHILDREN'S SVCS\",\"average_salary\":75660.1029411765},{\"Agency\":\"DEPARTMENT FOR THE AGING\",\"average_salary\":75759.9444444444},{\"Agency\":\"EQUAL EMPLOY PRACTICES COMM\",\"average_salary\":79483.5},{\"Agency\":\"DEPT OF CITYWIDE ADMIN SVCS\",\"average_salary\":80277.2073170732},{\"Agency\":\"DEPT OF INFO TECH & TELECOMM\",\"average_salary\":81367.839869281},{\"Agency\":\"CIVILIAN COMPLAINT REVIEW BD\",\"average_salary\":81441.4047619048},{\"Agency\":\"FIRE DEPARTMENT\",\"average_salary\":85027.8796296296},{\"Agency\":\"DEPARTMENT OF CITY PLANNING\",\"average_salary\":86934.1666666667},{\"Agency\":\"FINANCIAL INFO SVCS AGENCY\",\"average_salary\":87586.3888888889},{\"Agency\":\"OFFICE OF MANAGEMENT & BUDGET\",\"average_salary\":106475.0}];"
      ],
      "text/plain": [
       "<IPython.core.display.Javascript object>"
      ]
     },
     "execution_count": 126,
     "metadata": {},
     "output_type": "execute_result"
    }
   ],
   "source": [
    "from IPython.display import Javascript\n",
    "Javascript('window.chartData={};'.format(ordered_salaries.to_json(orient='records')))"
   ]
  },
  {
   "cell_type": "code",
   "execution_count": 80,
   "metadata": {
    "collapsed": false
   },
   "outputs": [
    {
     "data": {
      "text/html": [
       "\n",
       "<style>\n",
       ".bar {\n",
       "  fill: steelblue;\n",
       "}\n",
       ".axis path,\n",
       ".axis line {\n",
       "  fill: none;\n",
       "  stroke: #D4D8DA;\n",
       "  stroke-width: 1px;\n",
       "  shape-rendering: crispEdges;\n",
       "}\n",
       ".x path {\n",
       "  display: none;\n",
       "}\n",
       ".toolTip {\n",
       "\tposition: absolute;\n",
       "  display: none;\n",
       "  min-width: 80px;\n",
       "  height: auto;\n",
       "  background: none repeat scroll 0 0 #ffffff;\n",
       "  border: 1px solid #6F257F;\n",
       "  padding: 14px;\n",
       "  text-align: center;\n",
       "}\n",
       "</style>\n"
      ],
      "text/plain": [
       "<IPython.core.display.HTML object>"
      ]
     },
     "execution_count": 80,
     "metadata": {},
     "output_type": "execute_result"
    }
   ],
   "source": [
    "from IPython.display import HTML\n",
    "HTML(\"\"\"\n",
    "<style>\n",
    ".bar {\n",
    "  fill: steelblue;\n",
    "}\n",
    ".axis path,\n",
    ".axis line {\n",
    "  fill: none;\n",
    "  stroke: #D4D8DA;\n",
    "  stroke-width: 1px;\n",
    "  shape-rendering: crispEdges;\n",
    "}\n",
    ".x path {\n",
    "  display: none;\n",
    "}\n",
    ".toolTip {\n",
    "\tposition: absolute;\n",
    "  display: none;\n",
    "  min-width: 80px;\n",
    "  height: auto;\n",
    "  background: none repeat scroll 0 0 #ffffff;\n",
    "  border: 1px solid #6F257F;\n",
    "  padding: 14px;\n",
    "  text-align: center;\n",
    "}\n",
    "</style>\n",
    "\"\"\")"
   ]
  },
  {
   "cell_type": "code",
   "execution_count": 206,
   "metadata": {
    "collapsed": false
   },
   "outputs": [
    {
     "data": {
      "application/javascript": [
       "window.createBarChart = function createBarChart(el, chartData, metric, title, xAxisFormat,d3) {\n",
       "  var margin = {top: 30, right: 20, bottom: 20, left: 120};\n",
       "  var width = 960 - margin.left - margin.right;\n",
       "  var height = 1100 - margin.top - margin.bottom;\n",
       "  var svg = d3.select(el).append(\"svg\")\n",
       "    .attr(\"width\", width + margin.left + margin.right)\n",
       "    .attr(\"height\", height + margin.top + margin.bottom)\n",
       "    .append(\"g\")\n",
       "    .attr(\"transform\", \"translate(\" + margin.left + \",\" + margin.top + \")\");\n",
       "    \n",
       "  var x = d3.scaleLinear().range([0, width-margin.left - margin.right]);\n",
       "  var y = d3.scaleBand().range([height-margin.top - margin.bottom, 0]);\n",
       "  var data = chartData\n",
       "\n",
       "  var g = svg.append(\"g\")\n",
       "    .attr(\"transform\", \"translate(\" + margin.left + \",\" + margin.top + \")\");\n",
       "  x.domain([0, d3.max(data, function(d) { return d[metric]; })]);\n",
       "  y.domain(data.map(function(d) { return d.Agency; })).padding(0.1);\n",
       "  g.append(\"g\")\n",
       "    .attr(\"class\", \"x axis\")\n",
       "    .call(d3.axisTop(x).ticks(5).tickFormat(function(d) { return d3.format(xAxisFormat)(d); }));\n",
       "    \n",
       "  svg.append(\"text\")             \n",
       "      .attr(\"transform\",\"translate(\" + (width/2) + \" ,\" + 0 + \")\")\n",
       "      .style(\"text-anchor\", \"middle\")\n",
       "      .text(title);\n",
       "\n",
       "  g.append(\"g\")\n",
       "    .attr(\"class\", \"y axis\")\n",
       "    .call(d3.axisLeft(y));\n",
       "  g.selectAll(\".bar\")\n",
       "    .data(data)\n",
       "  .enter().append(\"rect\")\n",
       "    .attr(\"class\", \"bar\")\n",
       "    .attr(\"x\", 0)\n",
       "    .attr(\"height\", y.bandwidth())\n",
       "    .attr(\"y\", function(d) { return y(d.Agency); })\n",
       "    .attr(\"width\", function(d) { return x(d[metric]); })\n",
       "}"
      ],
      "text/plain": [
       "<IPython.core.display.Javascript object>"
      ]
     },
     "metadata": {},
     "output_type": "display_data"
    }
   ],
   "source": [
    "%%javascript\n",
    "window.createBarChart = function createBarChart(el, chartData, metric, title, xAxisFormat,d3) {\n",
    "  var margin = {top: 30, right: 20, bottom: 20, left: 120};\n",
    "  var width = 960 - margin.left - margin.right;\n",
    "  var height = 1100 - margin.top - margin.bottom;\n",
    "  var svg = d3.select(el).append(\"svg\")\n",
    "    .attr(\"width\", width + margin.left + margin.right)\n",
    "    .attr(\"height\", height + margin.top + margin.bottom)\n",
    "    .append(\"g\")\n",
    "    .attr(\"transform\", \"translate(\" + margin.left + \",\" + margin.top + \")\");\n",
    "    \n",
    "  var x = d3.scaleLinear().range([0, width-margin.left - margin.right]);\n",
    "  var y = d3.scaleBand().range([height-margin.top - margin.bottom, 0]);\n",
    "  var data = chartData\n",
    "\n",
    "  var g = svg.append(\"g\")\n",
    "    .attr(\"transform\", \"translate(\" + margin.left + \",\" + margin.top + \")\");\n",
    "  x.domain([0, d3.max(data, function(d) { return d[metric]; })]);\n",
    "  y.domain(data.map(function(d) { return d.Agency; })).padding(0.1);\n",
    "  g.append(\"g\")\n",
    "    .attr(\"class\", \"x axis\")\n",
    "    .call(d3.axisTop(x).ticks(5).tickFormat(function(d) { return d3.format(xAxisFormat)(d); }));\n",
    "    \n",
    "  svg.append(\"text\")             \n",
    "      .attr(\"transform\",\"translate(\" + (width/2) + \" ,\" + 0 + \")\")\n",
    "      .style(\"text-anchor\", \"middle\")\n",
    "      .text(title);\n",
    "\n",
    "  g.append(\"g\")\n",
    "    .attr(\"class\", \"y axis\")\n",
    "    .call(d3.axisLeft(y));\n",
    "  g.selectAll(\".bar\")\n",
    "    .data(data)\n",
    "  .enter().append(\"rect\")\n",
    "    .attr(\"class\", \"bar\")\n",
    "    .attr(\"x\", 0)\n",
    "    .attr(\"height\", y.bandwidth())\n",
    "    .attr(\"y\", function(d) { return y(d.Agency); })\n",
    "    .attr(\"width\", function(d) { return x(d[metric]); })\n",
    "}"
   ]
  },
  {
   "cell_type": "markdown",
   "metadata": {},
   "source": [
    "### Salaries by Agency\n",
    "\n",
    "The Office of Management & Budget tops the list of Salaries although the agency has only one position - Deputy Chief of Staff."
   ]
  },
  {
   "cell_type": "code",
   "execution_count": 207,
   "metadata": {
    "collapsed": false,
    "scrolled": true
   },
   "outputs": [
    {
     "data": {
      "application/javascript": [
       "require(['d3'], function(d3){\n",
       "    \n",
       "$('#chart').remove();\n",
       "element.append(\"<div id='chart'></div>\");\n",
       "$('#chart').width(\"960px\");\n",
       "$('#chart').height(\"1200px\");   \n",
       "\n",
       "window.createBarChart('#chart',\n",
       "                      window.chartData,\n",
       "                      'average_salary',\n",
       "                      'NYC City Jobs - Average Salary by Department',\n",
       "                      \"$,.2s\",\n",
       "                      d3)\n",
       "});"
      ],
      "text/plain": [
       "<IPython.core.display.Javascript object>"
      ]
     },
     "metadata": {},
     "output_type": "display_data"
    }
   ],
   "source": [
    "%%javascript\n",
    "require(['d3'], function(d3){\n",
    "    \n",
    "$('#chart').remove();\n",
    "element.append(\"<div id='chart'></div>\");\n",
    "$('#chart').width(\"960px\");\n",
    "$('#chart').height(\"1200px\");   \n",
    "\n",
    "window.createBarChart('#chart',\n",
    "                      window.chartData,\n",
    "                      'average_salary',\n",
    "                      'NYC City Jobs - Average Salary by Department',\n",
    "                      \"$,.2s\",\n",
    "                      d3)\n",
    "});"
   ]
  },
  {
   "cell_type": "markdown",
   "metadata": {},
   "source": [
    "### Open Positions\n",
    "\n",
    "Topping the list of open positions by agency is the Department of Parks and Recreation which is currently hiring hundreds of seasonal park workers at a low hourly rate. This also explains the department's low placement in the average salary chart."
   ]
  },
  {
   "cell_type": "code",
   "execution_count": 173,
   "metadata": {
    "collapsed": false
   },
   "outputs": [
    {
     "data": {
      "application/javascript": [
       "window.positionCountData=[{\"Agency\":\"OFFICE OF MANAGEMENT & BUDGET\",\"# Of Positions\":1},{\"Agency\":\"PRESIDENT BOROUGH OF MANHATTAN\",\"# Of Positions\":1},{\"Agency\":\"MANHATTAN COMMUNITY BOARD #10\",\"# Of Positions\":1},{\"Agency\":\"OFFICE OF COLLECTIVE BARGAININ\",\"# Of Positions\":1},{\"Agency\":\"CONFLICTS OF INTEREST BOARD\",\"# Of Positions\":1},{\"Agency\":\"EQUAL EMPLOY PRACTICES COMM\",\"# Of Positions\":1},{\"Agency\":\"OFFICE OF LABOR RELATIONS\",\"# Of Positions\":2},{\"Agency\":\"TAX COMMISSION\",\"# Of Positions\":6},{\"Agency\":\"DEPARTMENT OF CITY PLANNING\",\"# Of Positions\":6},{\"Agency\":\"DISTRICT ATTORNEY KINGS COUNTY\",\"# Of Positions\":6},{\"Agency\":\"CULTURAL AFFAIRS\",\"# Of Positions\":6},{\"Agency\":\"BUSINESS INTEGRITY COMMISSION\",\"# Of Positions\":6},{\"Agency\":\"BOARD OF CORRECTION\",\"# Of Positions\":7},{\"Agency\":\"DEPARTMENT FOR THE AGING\",\"# Of Positions\":9},{\"Agency\":\"FINANCIAL INFO SVCS AGENCY\",\"# Of Positions\":9},{\"Agency\":\"OFF OF PAYROLL ADMINISTRATION\",\"# Of Positions\":9},{\"Agency\":\"DEPARTMENT OF PROBATION\",\"# Of Positions\":9},{\"Agency\":\"DISTRICT ATTORNEY RICHMOND COU\",\"# Of Positions\":13},{\"Agency\":\"OFFICE OF EMERGENCY MANAGEMENT\",\"# Of Positions\":18},{\"Agency\":\"CIVILIAN COMPLAINT REVIEW BD\",\"# Of Positions\":21},{\"Agency\":\"CONSUMER AFFAIRS\",\"# Of Positions\":23},{\"Agency\":\"DEPARTMENT OF SANITATION\",\"# Of Positions\":23},{\"Agency\":\"MAYORS OFFICE OF CONTRACT SVCS\",\"# Of Positions\":25},{\"Agency\":\"NYC EMPLOYEES RETIREMENT SYS\",\"# Of Positions\":26},{\"Agency\":\"OFFICE OF THE COMPTROLLER\",\"# Of Positions\":30},{\"Agency\":\"DEPARTMENT OF INVESTIGATION\",\"# Of Positions\":32},{\"Agency\":\"HUMAN RIGHTS COMMISSION\",\"# Of Positions\":35},{\"Agency\":\"DEPARTMENT OF BUSINESS SERV.\",\"# Of Positions\":36},{\"Agency\":\"TAXI & LIMOUSINE COMMISSION\",\"# Of Positions\":37},{\"Agency\":\"DEPT OF CITYWIDE ADMIN SVCS\",\"# Of Positions\":41},{\"Agency\":\"DEPT. OF HOMELESS SERVICES\",\"# Of Positions\":42},{\"Agency\":\"DEPT OF YOUTH & COMM DEV SRVS\",\"# Of Positions\":43},{\"Agency\":\"FIRE DEPARTMENT\",\"# Of Positions\":54},{\"Agency\":\"ADMIN TRIALS AND HEARINGS\",\"# Of Positions\":78},{\"Agency\":\"DEPARTMENT OF FINANCE\",\"# Of Positions\":79},{\"Agency\":\"HOUSING PRESERVATION & DVLPMNT\",\"# Of Positions\":84},{\"Agency\":\"LAW DEPARTMENT\",\"# Of Positions\":122},{\"Agency\":\"HRA\\/DEPT OF SOCIAL SERVICES\",\"# Of Positions\":129},{\"Agency\":\"ADMIN FOR CHILDREN'S SVCS\",\"# Of Positions\":136},{\"Agency\":\"DEPARTMENT OF CORRECTION\",\"# Of Positions\":137},{\"Agency\":\"DEPARTMENT OF BUILDINGS\",\"# Of Positions\":137},{\"Agency\":\"NYC HOUSING AUTHORITY\",\"# Of Positions\":139},{\"Agency\":\"DEPT OF INFO TECH & TELECOMM\",\"# Of Positions\":153},{\"Agency\":\"DEPT OF DESIGN & CONSTRUCTION\",\"# Of Positions\":220},{\"Agency\":\"DEPARTMENT OF TRANSPORTATION\",\"# Of Positions\":224},{\"Agency\":\"DEPT OF ENVIRONMENT PROTECTION\",\"# Of Positions\":462},{\"Agency\":\"POLICE DEPARTMENT\",\"# Of Positions\":462},{\"Agency\":\"DEPT OF HEALTH\\/MENTAL HYGIENE\",\"# Of Positions\":1170},{\"Agency\":\"DEPT OF PARKS & RECREATION\",\"# Of Positions\":1331}];"
      ],
      "text/plain": [
       "<IPython.core.display.Javascript object>"
      ]
     },
     "execution_count": 173,
     "metadata": {},
     "output_type": "execute_result"
    }
   ],
   "source": [
    "from IPython.display import Javascript\n",
    "Javascript('window.positionCountData={};'.format(ordered_position_counts.to_json(orient='records')))"
   ]
  },
  {
   "cell_type": "code",
   "execution_count": 209,
   "metadata": {
    "collapsed": false,
    "scrolled": true
   },
   "outputs": [
    {
     "data": {
      "application/javascript": [
       "require(['d3'], function(d3){\n",
       "  $('#chart2').remove();\n",
       "  element.append(\"<div id='chart2'></div>\");\n",
       "  $('#chart2').width(\"960px\");\n",
       "  $('#chart2').height(\"1200px\");\n",
       "  createBarChart('#chart2',\n",
       "                 window.positionCountData,\n",
       "                 '# Of Positions',\n",
       "                 'NYC City Jobs - Open Positions by Department',\n",
       "                 \",\",\n",
       "                 d3)\n",
       "});"
      ],
      "text/plain": [
       "<IPython.core.display.Javascript object>"
      ]
     },
     "metadata": {},
     "output_type": "display_data"
    }
   ],
   "source": [
    "%%javascript\n",
    "require(['d3'], function(d3){\n",
    "  $('#chart2').remove();\n",
    "  element.append(\"<div id='chart2'></div>\");\n",
    "  $('#chart2').width(\"960px\");\n",
    "  $('#chart2').height(\"1200px\");\n",
    "  createBarChart('#chart2',\n",
    "                 window.positionCountData,\n",
    "                 '# Of Positions',\n",
    "                 'NYC City Jobs - Open Positions by Department',\n",
    "                 \",\",\n",
    "                 d3)\n",
    "});"
   ]
  },
  {
   "cell_type": "markdown",
   "metadata": {},
   "source": [
    "### Method\n",
    "\n",
    "- The midpoint of the salary range for each position is used\n",
    "- Duplicate rows are removed - only first occurence of each Job ID is shown. (This removes duplicates when a job is posted both internally and externally)\n",
    "- All daily and hourly positions will be annualized:\n",
    "  - Hourly Positions are estimated at 40 hours a week for 50 weeks\n",
    "  - Daily Salaries are estimated at 5 days a week for 50 weeks\n",
    "- Time since original posting is used as a proxy for difficulty to fill"
   ]
  },
  {
   "cell_type": "markdown",
   "metadata": {},
   "source": [
    "### Data Concerns\n",
    "\n",
    "This dataset does not always match the career information on the agency pages raising potential concerns about it's accuracy.  Examples include:\n",
    "- The Office of Management & Budget only includes one job posted in 2015, however there are dozens of more recent jobs on the [agency's career page](http://www1.nyc.gov/site/omb/careers/careers.page)\n",
    "- The Department of Environmental Protection includes jobs posted all the way back to 2012.  The oldest posting on the [agency's career page](http://www.nyc.gov/html/dep/html/job_opportunities/index_wide.shtml) at the time of writing was in November 2016."
   ]
  },
  {
   "cell_type": "code",
   "execution_count": 54,
   "metadata": {
    "collapsed": false,
    "scrolled": true
   },
   "outputs": [
    {
     "name": "stdout",
     "output_type": "stream",
     "text": [
      "All tests pass\n"
     ]
    }
   ],
   "source": [
    "#Tests\n",
    "assert source_df['Process Date'][0]=='03/14/2017 00:00:00', 'The file posted on 3/14 is not being used'\n",
    "assert True not in df.duplicated('Job ID'), 'The datset contains duplicate Job IDs'\n",
    "assert len(df['has_external_posting'].unique()) == 2, 'There are more than 2 values for Boolean column has_external_posting'\n",
    "\n",
    "print 'All tests pass'"
   ]
  }
 ],
 "metadata": {
  "kernelspec": {
   "display_name": "Python 2",
   "language": "python",
   "name": "python2"
  },
  "language_info": {
   "codemirror_mode": {
    "name": "ipython",
    "version": 2
   },
   "file_extension": ".py",
   "mimetype": "text/x-python",
   "name": "python",
   "nbconvert_exporter": "python",
   "pygments_lexer": "ipython2",
   "version": "2.7.11"
  }
 },
 "nbformat": 4,
 "nbformat_minor": 0
}
